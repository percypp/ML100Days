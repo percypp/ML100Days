{
 "cells": [
  {
   "cell_type": "markdown",
   "metadata": {},
   "source": [
    "## Work\n",
    "1. 請比較使用不同層數以及不同 Dropout rate 對訓練的效果\n",
    "2. 將 optimizer 改成使用 Adam 並加上適當的 dropout rate 檢視結果"
   ]
  },
  {
   "cell_type": "code",
   "execution_count": 1,
   "metadata": {},
   "outputs": [
    {
     "name": "stderr",
     "output_type": "stream",
     "text": [
      "Using TensorFlow backend.\n",
      "C:\\Users\\percy\\anaconda3\\envs\\tensorflow\\lib\\site-packages\\tensorflow\\python\\framework\\dtypes.py:516: FutureWarning: Passing (type, 1) or '1type' as a synonym of type is deprecated; in a future version of numpy, it will be understood as (type, (1,)) / '(1,)type'.\n",
      "  _np_qint8 = np.dtype([(\"qint8\", np.int8, 1)])\n",
      "C:\\Users\\percy\\anaconda3\\envs\\tensorflow\\lib\\site-packages\\tensorflow\\python\\framework\\dtypes.py:517: FutureWarning: Passing (type, 1) or '1type' as a synonym of type is deprecated; in a future version of numpy, it will be understood as (type, (1,)) / '(1,)type'.\n",
      "  _np_quint8 = np.dtype([(\"quint8\", np.uint8, 1)])\n",
      "C:\\Users\\percy\\anaconda3\\envs\\tensorflow\\lib\\site-packages\\tensorflow\\python\\framework\\dtypes.py:518: FutureWarning: Passing (type, 1) or '1type' as a synonym of type is deprecated; in a future version of numpy, it will be understood as (type, (1,)) / '(1,)type'.\n",
      "  _np_qint16 = np.dtype([(\"qint16\", np.int16, 1)])\n",
      "C:\\Users\\percy\\anaconda3\\envs\\tensorflow\\lib\\site-packages\\tensorflow\\python\\framework\\dtypes.py:519: FutureWarning: Passing (type, 1) or '1type' as a synonym of type is deprecated; in a future version of numpy, it will be understood as (type, (1,)) / '(1,)type'.\n",
      "  _np_quint16 = np.dtype([(\"quint16\", np.uint16, 1)])\n",
      "C:\\Users\\percy\\anaconda3\\envs\\tensorflow\\lib\\site-packages\\tensorflow\\python\\framework\\dtypes.py:520: FutureWarning: Passing (type, 1) or '1type' as a synonym of type is deprecated; in a future version of numpy, it will be understood as (type, (1,)) / '(1,)type'.\n",
      "  _np_qint32 = np.dtype([(\"qint32\", np.int32, 1)])\n",
      "C:\\Users\\percy\\anaconda3\\envs\\tensorflow\\lib\\site-packages\\tensorflow\\python\\framework\\dtypes.py:525: FutureWarning: Passing (type, 1) or '1type' as a synonym of type is deprecated; in a future version of numpy, it will be understood as (type, (1,)) / '(1,)type'.\n",
      "  np_resource = np.dtype([(\"resource\", np.ubyte, 1)])\n",
      "C:\\Users\\percy\\anaconda3\\envs\\tensorflow\\lib\\site-packages\\tensorboard\\compat\\tensorflow_stub\\dtypes.py:541: FutureWarning: Passing (type, 1) or '1type' as a synonym of type is deprecated; in a future version of numpy, it will be understood as (type, (1,)) / '(1,)type'.\n",
      "  _np_qint8 = np.dtype([(\"qint8\", np.int8, 1)])\n",
      "C:\\Users\\percy\\anaconda3\\envs\\tensorflow\\lib\\site-packages\\tensorboard\\compat\\tensorflow_stub\\dtypes.py:542: FutureWarning: Passing (type, 1) or '1type' as a synonym of type is deprecated; in a future version of numpy, it will be understood as (type, (1,)) / '(1,)type'.\n",
      "  _np_quint8 = np.dtype([(\"quint8\", np.uint8, 1)])\n",
      "C:\\Users\\percy\\anaconda3\\envs\\tensorflow\\lib\\site-packages\\tensorboard\\compat\\tensorflow_stub\\dtypes.py:543: FutureWarning: Passing (type, 1) or '1type' as a synonym of type is deprecated; in a future version of numpy, it will be understood as (type, (1,)) / '(1,)type'.\n",
      "  _np_qint16 = np.dtype([(\"qint16\", np.int16, 1)])\n",
      "C:\\Users\\percy\\anaconda3\\envs\\tensorflow\\lib\\site-packages\\tensorboard\\compat\\tensorflow_stub\\dtypes.py:544: FutureWarning: Passing (type, 1) or '1type' as a synonym of type is deprecated; in a future version of numpy, it will be understood as (type, (1,)) / '(1,)type'.\n",
      "  _np_quint16 = np.dtype([(\"quint16\", np.uint16, 1)])\n",
      "C:\\Users\\percy\\anaconda3\\envs\\tensorflow\\lib\\site-packages\\tensorboard\\compat\\tensorflow_stub\\dtypes.py:545: FutureWarning: Passing (type, 1) or '1type' as a synonym of type is deprecated; in a future version of numpy, it will be understood as (type, (1,)) / '(1,)type'.\n",
      "  _np_qint32 = np.dtype([(\"qint32\", np.int32, 1)])\n",
      "C:\\Users\\percy\\anaconda3\\envs\\tensorflow\\lib\\site-packages\\tensorboard\\compat\\tensorflow_stub\\dtypes.py:550: FutureWarning: Passing (type, 1) or '1type' as a synonym of type is deprecated; in a future version of numpy, it will be understood as (type, (1,)) / '(1,)type'.\n",
      "  np_resource = np.dtype([(\"resource\", np.ubyte, 1)])\n"
     ]
    }
   ],
   "source": [
    "import os\n",
    "import keras\n",
    "import itertools\n",
    "# Disable GPU\n",
    "os.environ[\"CUDA_VISIBLE_DEVICES\"] = \"0\""
   ]
  },
  {
   "cell_type": "code",
   "execution_count": 2,
   "metadata": {},
   "outputs": [],
   "source": [
    "train, test = keras.datasets.cifar10.load_data()"
   ]
  },
  {
   "cell_type": "code",
   "execution_count": 3,
   "metadata": {},
   "outputs": [],
   "source": [
    "## 資料前處理\n",
    "def preproc_x(x, flatten=True):\n",
    "    x = x / 255.\n",
    "    if flatten:\n",
    "        x = x.reshape((len(x), -1))\n",
    "    return x\n",
    "\n",
    "def preproc_y(y, num_classes=10):\n",
    "    if y.shape[-1] == 1:\n",
    "        y = keras.utils.to_categorical(y, num_classes)\n",
    "    return y    "
   ]
  },
  {
   "cell_type": "code",
   "execution_count": 4,
   "metadata": {},
   "outputs": [],
   "source": [
    "x_train, y_train = train\n",
    "x_test, y_test = test\n",
    "\n",
    "# Preproc the inputs\n",
    "x_train = preproc_x(x_train)\n",
    "x_test = preproc_x(x_test)\n",
    "\n",
    "# Preprc the outputs\n",
    "y_train = preproc_y(y_train)\n",
    "y_test = preproc_y(y_test)"
   ]
  },
  {
   "cell_type": "code",
   "execution_count": 5,
   "metadata": {},
   "outputs": [],
   "source": [
    "from keras.layers import Dropout\n",
    "\n",
    "\"\"\"\n",
    "建立神經網路，並加入 dropout layer\n",
    "\"\"\"\n",
    "def build_mlp(input_shape, output_units=10, num_neurons=[512, 256, 128], drp_ratio=0.2):\n",
    "    input_layer = keras.layers.Input(input_shape)\n",
    "    \n",
    "    for i, n_units in enumerate(num_neurons):\n",
    "        if i == 0:\n",
    "            x = keras.layers.Dense(units=n_units, \n",
    "                                   activation=\"relu\", \n",
    "                                   name=\"hidden_layer\"+str(i+1))(input_layer)\n",
    "            x = Dropout(drp_ratio)(x)\n",
    "        else:\n",
    "            x = keras.layers.Dense(units=n_units, \n",
    "                                   activation=\"relu\", \n",
    "                                   name=\"hidden_layer\"+str(i+1))(x)\n",
    "            x = Dropout(drp_ratio)(x)\n",
    "    \n",
    "    out = keras.layers.Dense(units=output_units, activation=\"softmax\", name=\"output\")(x)\n",
    "    \n",
    "    model = keras.models.Model(inputs=[input_layer], outputs=[out])\n",
    "    return model"
   ]
  },
  {
   "cell_type": "code",
   "execution_count": 6,
   "metadata": {},
   "outputs": [],
   "source": [
    "\"\"\"Code Here\n",
    "設定超參數\n",
    "\"\"\"\n",
    "LEARNING_RATE = 1e-3\n",
    "EPOCHS = 50\n",
    "BATCH_SIZE = 256\n",
    "\n",
    "Dropout_EXP = 0.25"
   ]
  },
  {
   "cell_type": "code",
   "execution_count": 7,
   "metadata": {
    "scrolled": true
   },
   "outputs": [
    {
     "name": "stdout",
     "output_type": "stream",
     "text": [
      "Model: \"model_1\"\n",
      "_________________________________________________________________\n",
      "Layer (type)                 Output Shape              Param #   \n",
      "=================================================================\n",
      "input_1 (InputLayer)         (None, 3072)              0         \n",
      "_________________________________________________________________\n",
      "hidden_layer1 (Dense)        (None, 512)               1573376   \n",
      "_________________________________________________________________\n",
      "dropout_1 (Dropout)          (None, 512)               0         \n",
      "_________________________________________________________________\n",
      "hidden_layer2 (Dense)        (None, 256)               131328    \n",
      "_________________________________________________________________\n",
      "dropout_2 (Dropout)          (None, 256)               0         \n",
      "_________________________________________________________________\n",
      "hidden_layer3 (Dense)        (None, 128)               32896     \n",
      "_________________________________________________________________\n",
      "dropout_3 (Dropout)          (None, 128)               0         \n",
      "_________________________________________________________________\n",
      "output (Dense)               (None, 10)                1290      \n",
      "=================================================================\n",
      "Total params: 1,738,890\n",
      "Trainable params: 1,738,890\n",
      "Non-trainable params: 0\n",
      "_________________________________________________________________\n",
      "WARNING:tensorflow:From C:\\Users\\percy\\anaconda3\\envs\\tensorflow\\lib\\site-packages\\keras\\backend\\tensorflow_backend.py:422: The name tf.global_variables is deprecated. Please use tf.compat.v1.global_variables instead.\n",
      "\n",
      "Train on 50000 samples, validate on 10000 samples\n",
      "Epoch 1/50\n",
      "50000/50000 [==============================] - 2s 32us/step - loss: 2.0882 - accuracy: 0.2286 - val_loss: 1.8773 - val_accuracy: 0.3185\n",
      "Epoch 2/50\n",
      "50000/50000 [==============================] - 1s 25us/step - loss: 1.8940 - accuracy: 0.3078 - val_loss: 1.7786 - val_accuracy: 0.3588\n",
      "Epoch 3/50\n",
      "50000/50000 [==============================] - 1s 25us/step - loss: 1.8285 - accuracy: 0.3345 - val_loss: 1.7086 - val_accuracy: 0.4005\n",
      "Epoch 4/50\n",
      "50000/50000 [==============================] - 1s 26us/step - loss: 1.7952 - accuracy: 0.3508 - val_loss: 1.6910 - val_accuracy: 0.4073\n",
      "Epoch 5/50\n",
      "50000/50000 [==============================] - 1s 25us/step - loss: 1.7642 - accuracy: 0.3600 - val_loss: 1.6425 - val_accuracy: 0.4231\n",
      "Epoch 6/50\n",
      "50000/50000 [==============================] - 1s 25us/step - loss: 1.7397 - accuracy: 0.3709 - val_loss: 1.6267 - val_accuracy: 0.4263\n",
      "Epoch 7/50\n",
      "50000/50000 [==============================] - 1s 25us/step - loss: 1.7251 - accuracy: 0.3772 - val_loss: 1.6582 - val_accuracy: 0.4036\n",
      "Epoch 8/50\n",
      "50000/50000 [==============================] - 1s 25us/step - loss: 1.7028 - accuracy: 0.3847 - val_loss: 1.6050 - val_accuracy: 0.4357\n",
      "Epoch 9/50\n",
      "50000/50000 [==============================] - 1s 26us/step - loss: 1.6950 - accuracy: 0.3877 - val_loss: 1.5927 - val_accuracy: 0.4347\n",
      "Epoch 10/50\n",
      "50000/50000 [==============================] - 1s 25us/step - loss: 1.6817 - accuracy: 0.3925 - val_loss: 1.5717 - val_accuracy: 0.4424\n",
      "Epoch 11/50\n",
      "50000/50000 [==============================] - 1s 26us/step - loss: 1.6715 - accuracy: 0.3964 - val_loss: 1.5838 - val_accuracy: 0.4344\n",
      "Epoch 12/50\n",
      "50000/50000 [==============================] - 1s 26us/step - loss: 1.6531 - accuracy: 0.4029 - val_loss: 1.5761 - val_accuracy: 0.4514\n",
      "Epoch 13/50\n",
      "50000/50000 [==============================] - 1s 26us/step - loss: 1.6477 - accuracy: 0.4064 - val_loss: 1.5772 - val_accuracy: 0.4513\n",
      "Epoch 14/50\n",
      "50000/50000 [==============================] - 1s 26us/step - loss: 1.6396 - accuracy: 0.4077 - val_loss: 1.5666 - val_accuracy: 0.4487\n",
      "Epoch 15/50\n",
      "50000/50000 [==============================] - 1s 25us/step - loss: 1.6318 - accuracy: 0.4128 - val_loss: 1.5486 - val_accuracy: 0.4565\n",
      "Epoch 16/50\n",
      "50000/50000 [==============================] - 1s 25us/step - loss: 1.6167 - accuracy: 0.4173 - val_loss: 1.5478 - val_accuracy: 0.4548\n",
      "Epoch 17/50\n",
      "50000/50000 [==============================] - 1s 25us/step - loss: 1.6236 - accuracy: 0.4148 - val_loss: 1.5563 - val_accuracy: 0.4550\n",
      "Epoch 18/50\n",
      "50000/50000 [==============================] - 1s 26us/step - loss: 1.6060 - accuracy: 0.4231 - val_loss: 1.5337 - val_accuracy: 0.4586\n",
      "Epoch 19/50\n",
      "50000/50000 [==============================] - 1s 25us/step - loss: 1.6028 - accuracy: 0.4201 - val_loss: 1.5263 - val_accuracy: 0.4649\n",
      "Epoch 20/50\n",
      "50000/50000 [==============================] - 1s 25us/step - loss: 1.6038 - accuracy: 0.4251 - val_loss: 1.5526 - val_accuracy: 0.4564\n",
      "Epoch 21/50\n",
      "50000/50000 [==============================] - 1s 25us/step - loss: 1.5876 - accuracy: 0.4285 - val_loss: 1.5239 - val_accuracy: 0.4633\n",
      "Epoch 22/50\n",
      "50000/50000 [==============================] - 1s 25us/step - loss: 1.5759 - accuracy: 0.4323 - val_loss: 1.5244 - val_accuracy: 0.4519\n",
      "Epoch 23/50\n",
      "50000/50000 [==============================] - 1s 25us/step - loss: 1.5758 - accuracy: 0.4321 - val_loss: 1.5261 - val_accuracy: 0.4667\n",
      "Epoch 24/50\n",
      "50000/50000 [==============================] - 1s 26us/step - loss: 1.5686 - accuracy: 0.4364 - val_loss: 1.5112 - val_accuracy: 0.4684\n",
      "Epoch 25/50\n",
      "50000/50000 [==============================] - 1s 25us/step - loss: 1.5726 - accuracy: 0.4372 - val_loss: 1.5049 - val_accuracy: 0.4759\n",
      "Epoch 26/50\n",
      "50000/50000 [==============================] - 1s 25us/step - loss: 1.5717 - accuracy: 0.4335 - val_loss: 1.5065 - val_accuracy: 0.4688\n",
      "Epoch 27/50\n",
      "50000/50000 [==============================] - 1s 25us/step - loss: 1.5503 - accuracy: 0.4426 - val_loss: 1.5079 - val_accuracy: 0.4645\n",
      "Epoch 28/50\n",
      "50000/50000 [==============================] - 1s 25us/step - loss: 1.5544 - accuracy: 0.4386 - val_loss: 1.4787 - val_accuracy: 0.4747\n",
      "Epoch 29/50\n",
      "50000/50000 [==============================] - 1s 26us/step - loss: 1.5572 - accuracy: 0.4411 - val_loss: 1.5184 - val_accuracy: 0.4574\n",
      "Epoch 30/50\n",
      "50000/50000 [==============================] - 1s 25us/step - loss: 1.5492 - accuracy: 0.4427 - val_loss: 1.5122 - val_accuracy: 0.4787\n",
      "Epoch 31/50\n",
      "50000/50000 [==============================] - 1s 25us/step - loss: 1.5432 - accuracy: 0.4467 - val_loss: 1.4778 - val_accuracy: 0.4878\n",
      "Epoch 32/50\n",
      "50000/50000 [==============================] - 1s 25us/step - loss: 1.5410 - accuracy: 0.4479 - val_loss: 1.4873 - val_accuracy: 0.4817\n",
      "Epoch 33/50\n",
      "50000/50000 [==============================] - 1s 25us/step - loss: 1.5387 - accuracy: 0.4473 - val_loss: 1.5154 - val_accuracy: 0.4648\n",
      "Epoch 34/50\n",
      "50000/50000 [==============================] - 1s 25us/step - loss: 1.5325 - accuracy: 0.4458 - val_loss: 1.4826 - val_accuracy: 0.4703\n",
      "Epoch 35/50\n",
      "50000/50000 [==============================] - 1s 26us/step - loss: 1.5272 - accuracy: 0.4537 - val_loss: 1.5014 - val_accuracy: 0.4702\n",
      "Epoch 36/50\n",
      "50000/50000 [==============================] - 1s 26us/step - loss: 1.5323 - accuracy: 0.4477 - val_loss: 1.4853 - val_accuracy: 0.4831\n",
      "Epoch 37/50\n",
      "50000/50000 [==============================] - 1s 26us/step - loss: 1.5247 - accuracy: 0.4541 - val_loss: 1.4910 - val_accuracy: 0.4759\n",
      "Epoch 38/50\n",
      "50000/50000 [==============================] - 1s 26us/step - loss: 1.5190 - accuracy: 0.4535 - val_loss: 1.4581 - val_accuracy: 0.4836\n",
      "Epoch 39/50\n",
      "50000/50000 [==============================] - 1s 25us/step - loss: 1.5186 - accuracy: 0.4537 - val_loss: 1.4554 - val_accuracy: 0.4876\n",
      "Epoch 40/50\n",
      "50000/50000 [==============================] - 1s 25us/step - loss: 1.5233 - accuracy: 0.4521 - val_loss: 1.4595 - val_accuracy: 0.4865\n",
      "Epoch 41/50\n",
      "50000/50000 [==============================] - 1s 25us/step - loss: 1.5246 - accuracy: 0.4518 - val_loss: 1.4736 - val_accuracy: 0.4855\n",
      "Epoch 42/50\n",
      "50000/50000 [==============================] - 1s 25us/step - loss: 1.5140 - accuracy: 0.4551 - val_loss: 1.4842 - val_accuracy: 0.4736\n",
      "Epoch 43/50\n",
      "50000/50000 [==============================] - 1s 25us/step - loss: 1.5104 - accuracy: 0.4561 - val_loss: 1.4797 - val_accuracy: 0.4795\n",
      "Epoch 44/50\n",
      "50000/50000 [==============================] - 1s 26us/step - loss: 1.5017 - accuracy: 0.4589 - val_loss: 1.4650 - val_accuracy: 0.4842\n",
      "Epoch 45/50\n"
     ]
    },
    {
     "name": "stdout",
     "output_type": "stream",
     "text": [
      "50000/50000 [==============================] - 1s 25us/step - loss: 1.5041 - accuracy: 0.4605 - val_loss: 1.4841 - val_accuracy: 0.4829\n",
      "Epoch 46/50\n",
      "50000/50000 [==============================] - 1s 25us/step - loss: 1.5075 - accuracy: 0.4577 - val_loss: 1.4767 - val_accuracy: 0.4874\n",
      "Epoch 47/50\n",
      "50000/50000 [==============================] - 1s 26us/step - loss: 1.4997 - accuracy: 0.4608 - val_loss: 1.4612 - val_accuracy: 0.4861\n",
      "Epoch 48/50\n",
      "50000/50000 [==============================] - 1s 25us/step - loss: 1.4968 - accuracy: 0.4602 - val_loss: 1.4490 - val_accuracy: 0.4917\n",
      "Epoch 49/50\n",
      "50000/50000 [==============================] - 1s 26us/step - loss: 1.4905 - accuracy: 0.4647 - val_loss: 1.4612 - val_accuracy: 0.4904\n",
      "Epoch 50/50\n",
      "50000/50000 [==============================] - 1s 26us/step - loss: 1.4925 - accuracy: 0.4641 - val_loss: 1.4402 - val_accuracy: 0.4961\n"
     ]
    }
   ],
   "source": [
    "results = {}\n",
    "\"\"\"Code Here\n",
    "撰寫你的訓練流程並將結果用 dictionary 紀錄\n",
    "\"\"\"\n",
    "model = build_mlp(input_shape=x_train.shape[1:], drp_ratio=Dropout_EXP)\n",
    "model.summary()\n",
    "optimizer = keras.optimizers.Adam(lr=LEARNING_RATE)\n",
    "model.compile(loss=\"categorical_crossentropy\", metrics=[\"accuracy\"], optimizer=optimizer)\n",
    "\n",
    "model.fit(x_train, y_train, \n",
    "          epochs=EPOCHS, \n",
    "          batch_size=BATCH_SIZE, \n",
    "          validation_data=(x_test, y_test), \n",
    "          shuffle=True)\n",
    "\n",
    "# Collect results\n",
    "train_loss = model.history.history[\"loss\"]\n",
    "valid_loss = model.history.history[\"val_loss\"]\n",
    "train_acc = model.history.history[\"accuracy\"]\n",
    "valid_acc = model.history.history[\"val_accuracy\"]"
   ]
  },
  {
   "cell_type": "code",
   "execution_count": 8,
   "metadata": {},
   "outputs": [
    {
     "data": {
      "image/png": "[encoded data removed]",
      "text/plain": [
       "<Figure size 432x288 with 1 Axes>"
      ]
     },
     "metadata": {
      "needs_background": "light"
     },
     "output_type": "display_data"
    },
    {
     "data": {
      "image/png": "[encoded data removed]",
      "text/plain": [
       "<Figure size 432x288 with 1 Axes>"
      ]
     },
     "metadata": {
      "needs_background": "light"
     },
     "output_type": "display_data"
    }
   ],
   "source": [
    "import matplotlib.pyplot as plt\n",
    "%matplotlib inline\n",
    "\n",
    "plt.plot(range(len(train_loss)), train_loss, label=\"train loss\")\n",
    "plt.plot(range(len(valid_loss)), valid_loss, label=\"valid loss\")\n",
    "plt.legend()\n",
    "plt.title(\"Loss\")\n",
    "plt.show()\n",
    "\n",
    "plt.plot(range(len(train_acc)), train_acc, label=\"train accuracy\")\n",
    "plt.plot(range(len(valid_acc)), valid_acc, label=\"valid accuracy\")\n",
    "plt.legend()\n",
    "plt.title(\"Accuracy\")\n",
    "plt.show()"
   ]
  }
 ],
 "metadata": {
  "kernelspec": {
   "display_name": "Python 3.7.7 64-bit ('tensorflow': conda)",
   "language": "python",
   "name": "python37764bittensorflowcondabe2e4336b96f48d4b87e149945cb22b6"
  },
  "language_info": {
   "codemirror_mode": {
    "name": "ipython",
    "version": 3
   },
   "file_extension": ".py",
   "mimetype": "text/x-python",
   "name": "python",
   "nbconvert_exporter": "python",
   "pygments_lexer": "ipython3",
   "version": "3.7.7"
  }
 },
 "nbformat": 4,
 "nbformat_minor": 2
}
