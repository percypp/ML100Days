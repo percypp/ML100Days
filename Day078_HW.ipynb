{
 "cells": [
  {
   "cell_type": "markdown",
   "metadata": {},
   "source": [
    "## Work\n",
    "1. 請嘗試將 preproc_x 替換成以每筆資料的 min/max 進行標準化至 -1 ~ 1 間，再進行訓練\n",
    "2. 請嘗試將 mlp 疊更深 (e.g 5~10 層)，進行訓練後觀察 learning curve 的走勢\n",
    "3. (optional) 請改用 GPU 進行訓練 (如果你有 GPU 的話)，比較使用 CPU 與 GPU 的訓練速度"
   ]
  },
  {
   "cell_type": "code",
   "execution_count": 1,
   "metadata": {},
   "outputs": [
    {
     "ename": "SyntaxError",
     "evalue": "invalid syntax (<ipython-input-1-e26d64f7edcd>, line 6)",
     "output_type": "error",
     "traceback": [
      "\u001b[1;36m  File \u001b[1;32m\"<ipython-input-1-e26d64f7edcd>\"\u001b[1;36m, line \u001b[1;32m6\u001b[0m\n\u001b[1;33m    nvidia-smi.exe -l 1\u001b[0m\n\u001b[1;37m                      ^\u001b[0m\n\u001b[1;31mSyntaxError\u001b[0m\u001b[1;31m:\u001b[0m invalid syntax\n"
     ]
    }
   ],
   "source": [
    "## \n",
    "\"\"\"\n",
    "Your code here (optional)\n",
    "確認硬體資源\n",
    "\"\"\"\n",
    "nvidia-smi.exe -l 1"
   ]
  },
  {
   "cell_type": "code",
   "execution_count": 2,
   "metadata": {},
   "outputs": [],
   "source": [
    "import os\n",
    "import keras\n",
    "from sklearn import preprocessing\n",
    "# 請嘗試設定 GPU：os.environ\n",
    "os.environ[\"CUDA_VISIBLE_DEVICES\"] = \"0\"\n"
   ]
  },
  {
   "cell_type": "code",
   "execution_count": 3,
   "metadata": {},
   "outputs": [],
   "source": [
    "train, test = keras.datasets.cifar10.load_data()"
   ]
  },
  {
   "cell_type": "code",
   "execution_count": 4,
   "metadata": {},
   "outputs": [],
   "source": [
    "## 資料前處理\n",
    "\"\"\"\n",
    "Your code here\n",
    "\"\"\"\n",
    "def preproc_x(x, flatten=True):\n",
    "    if flatten:\n",
    "        x = x.reshape((len(x), -1))\n",
    "        \n",
    "    data_scaler_minmax = preprocessing.MinMaxScaler(feature_range=(-1, 1))\n",
    "    x = data_scaler_minmax.fit_transform(x)\n",
    "    \n",
    "    return x\n",
    "\n",
    "def preproc_y(y, num_classes=10):\n",
    "    if y.shape[-1] == 1:\n",
    "        y = keras.utils.to_categorical(y, num_classes)\n",
    "    return y "
   ]
  },
  {
   "cell_type": "code",
   "execution_count": 5,
   "metadata": {},
   "outputs": [],
   "source": [
    "x_train, y_train = train\n",
    "x_test, y_test = test\n",
    "\n",
    "# Preproc the inputs\n",
    "x_train = preproc_x(x_train)\n",
    "x_test = preproc_x(x_test)\n",
    "\n",
    "# Preprc the outputs\n",
    "y_train = preproc_y(y_train)\n",
    "y_test = preproc_y(y_test)"
   ]
  },
  {
   "cell_type": "code",
   "execution_count": 6,
   "metadata": {},
   "outputs": [
    {
     "name": "stdout",
     "output_type": "stream",
     "text": [
      "Model: \"model_1\"\n",
      "_________________________________________________________________\n",
      "Layer (type)                 Output Shape              Param #   \n",
      "=================================================================\n",
      "input_1 (InputLayer)         (None, 3072)              0         \n",
      "_________________________________________________________________\n",
      "hidden_layer1 (Dense)        (None, 512)               1573376   \n",
      "_________________________________________________________________\n",
      "hidden_layer2 (Dense)        (None, 256)               131328    \n",
      "_________________________________________________________________\n",
      "hidden_layer3 (Dense)        (None, 128)               32896     \n",
      "_________________________________________________________________\n",
      "hidden_layer4 (Dense)        (None, 64)                8256      \n",
      "_________________________________________________________________\n",
      "hidden_layer5 (Dense)        (None, 32)                2080      \n",
      "_________________________________________________________________\n",
      "output (Dense)               (None, 10)                330       \n",
      "=================================================================\n",
      "Total params: 1,748,266\n",
      "Trainable params: 1,748,266\n",
      "Non-trainable params: 0\n",
      "_________________________________________________________________\n"
     ]
    }
   ],
   "source": [
    "\"\"\"Code Here\n",
    "建立你的神經網路\n",
    "\"\"\"\n",
    "def build_mlp(input_shape, output_units=10, num_neurons=[512, 256, 128, 64, 32]):\n",
    "    input_layer = keras.layers.Input(input_shape)\n",
    "    \n",
    "    for i, n_units in enumerate(num_neurons):\n",
    "        if i == 0:\n",
    "            x = keras.layers.Dense(units=n_units, activation=\"relu\", name=\"hidden_layer\"+str(i+1))(input_layer)\n",
    "        else:\n",
    "            x = keras.layers.Dense(units=n_units, activation=\"relu\", name=\"hidden_layer\"+str(i+1))(x)\n",
    "    \n",
    "    out = keras.layers.Dense(units=output_units, activation=\"softmax\", name=\"output\")(x)\n",
    "    \n",
    "    model = keras.models.Model(inputs=[input_layer], outputs=[out])\n",
    "    return model\n",
    "model = build_mlp(input_shape=x_train.shape[1:])\n",
    "model.summary()"
   ]
  },
  {
   "cell_type": "code",
   "execution_count": 7,
   "metadata": {},
   "outputs": [],
   "source": [
    "## 超參數設定\n",
    "LEARNING_RATE = 0.001\n",
    "EPOCHS = 100\n",
    "BATCH_SIZE = 256"
   ]
  },
  {
   "cell_type": "code",
   "execution_count": 8,
   "metadata": {},
   "outputs": [],
   "source": [
    "optimizer = keras.optimizers.Adam(lr=LEARNING_RATE)\n",
    "model.compile(loss=\"categorical_crossentropy\", metrics=[\"accuracy\"], optimizer=optimizer)"
   ]
  },
  {
   "cell_type": "code",
   "execution_count": 9,
   "metadata": {},
   "outputs": [
    {
     "name": "stdout",
     "output_type": "stream",
     "text": [
      "WARNING:tensorflow:From C:\\Users\\percy\\anaconda3\\envs\\tensorflow\\lib\\site-packages\\keras\\backend\\tensorflow_backend.py:422: The name tf.global_variables is deprecated. Please use tf.compat.v1.global_variables instead.\n",
      "\n",
      "Train on 50000 samples, validate on 10000 samples\n",
      "Epoch 1/100\n",
      "50000/50000 [==============================] - 2s 33us/step - loss: 1.7159 - accuracy: 0.3921 - val_loss: 1.5592 - val_accuracy: 0.4477\n",
      "Epoch 2/100\n",
      "50000/50000 [==============================] - 1s 28us/step - loss: 1.4775 - accuracy: 0.4775 - val_loss: 1.4500 - val_accuracy: 0.4914\n",
      "Epoch 3/100\n",
      "50000/50000 [==============================] - 1s 28us/step - loss: 1.3570 - accuracy: 0.5216 - val_loss: 1.4001 - val_accuracy: 0.5121\n",
      "Epoch 4/100\n",
      "50000/50000 [==============================] - 1s 28us/step - loss: 1.2548 - accuracy: 0.5578 - val_loss: 1.3710 - val_accuracy: 0.5177\n",
      "Epoch 5/100\n",
      "50000/50000 [==============================] - 1s 27us/step - loss: 1.1752 - accuracy: 0.5889 - val_loss: 1.3870 - val_accuracy: 0.5135\n",
      "Epoch 6/100\n",
      "50000/50000 [==============================] - 1s 28us/step - loss: 1.0991 - accuracy: 0.6137 - val_loss: 1.3519 - val_accuracy: 0.5317\n",
      "Epoch 7/100\n",
      "50000/50000 [==============================] - 1s 29us/step - loss: 1.0263 - accuracy: 0.6377 - val_loss: 1.3798 - val_accuracy: 0.5280\n",
      "Epoch 8/100\n",
      "50000/50000 [==============================] - 1s 29us/step - loss: 0.9530 - accuracy: 0.6650 - val_loss: 1.4377 - val_accuracy: 0.5221\n",
      "Epoch 9/100\n",
      "50000/50000 [==============================] - 1s 28us/step - loss: 0.8866 - accuracy: 0.6871 - val_loss: 1.4318 - val_accuracy: 0.5408\n",
      "Epoch 10/100\n",
      "50000/50000 [==============================] - 1s 27us/step - loss: 0.8154 - accuracy: 0.7109 - val_loss: 1.5250 - val_accuracy: 0.5214\n",
      "Epoch 11/100\n",
      "50000/50000 [==============================] - 1s 28us/step - loss: 0.7502 - accuracy: 0.7337 - val_loss: 1.5314 - val_accuracy: 0.5342\n",
      "Epoch 12/100\n",
      "50000/50000 [==============================] - 1s 28us/step - loss: 0.6869 - accuracy: 0.7572 - val_loss: 1.5645 - val_accuracy: 0.5349\n",
      "Epoch 13/100\n",
      "50000/50000 [==============================] - 1s 28us/step - loss: 0.6338 - accuracy: 0.7758 - val_loss: 1.6974 - val_accuracy: 0.5387\n",
      "Epoch 14/100\n",
      "50000/50000 [==============================] - 1s 27us/step - loss: 0.5756 - accuracy: 0.7955 - val_loss: 1.7544 - val_accuracy: 0.5297\n",
      "Epoch 15/100\n",
      "50000/50000 [==============================] - 1s 27us/step - loss: 0.5305 - accuracy: 0.8135 - val_loss: 1.8211 - val_accuracy: 0.5359\n",
      "Epoch 16/100\n",
      "50000/50000 [==============================] - 1s 27us/step - loss: 0.4796 - accuracy: 0.8307 - val_loss: 1.9111 - val_accuracy: 0.5297\n",
      "Epoch 17/100\n",
      "50000/50000 [==============================] - 1s 27us/step - loss: 0.4470 - accuracy: 0.8430 - val_loss: 1.9245 - val_accuracy: 0.5344\n",
      "Epoch 18/100\n",
      "50000/50000 [==============================] - 1s 28us/step - loss: 0.4133 - accuracy: 0.8541 - val_loss: 2.0793 - val_accuracy: 0.5341\n",
      "Epoch 19/100\n",
      "50000/50000 [==============================] - 1s 27us/step - loss: 0.3654 - accuracy: 0.8724 - val_loss: 2.2490 - val_accuracy: 0.5294\n",
      "Epoch 20/100\n",
      "50000/50000 [==============================] - 1s 27us/step - loss: 0.3585 - accuracy: 0.8725 - val_loss: 2.2770 - val_accuracy: 0.5311\n",
      "Epoch 21/100\n",
      "50000/50000 [==============================] - 1s 27us/step - loss: 0.3163 - accuracy: 0.8884 - val_loss: 2.4035 - val_accuracy: 0.5331\n",
      "Epoch 22/100\n",
      "50000/50000 [==============================] - 1s 28us/step - loss: 0.2972 - accuracy: 0.8951 - val_loss: 2.4537 - val_accuracy: 0.5366\n",
      "Epoch 23/100\n",
      "50000/50000 [==============================] - 1s 28us/step - loss: 0.2812 - accuracy: 0.9020 - val_loss: 2.5505 - val_accuracy: 0.5275\n",
      "Epoch 24/100\n",
      "50000/50000 [==============================] - 1s 28us/step - loss: 0.2631 - accuracy: 0.9085 - val_loss: 2.6393 - val_accuracy: 0.5304\n",
      "Epoch 25/100\n",
      "50000/50000 [==============================] - 1s 28us/step - loss: 0.2549 - accuracy: 0.9114 - val_loss: 2.6304 - val_accuracy: 0.5318\n",
      "Epoch 26/100\n",
      "50000/50000 [==============================] - 1s 28us/step - loss: 0.2366 - accuracy: 0.9178 - val_loss: 2.7546 - val_accuracy: 0.5293\n",
      "Epoch 27/100\n",
      "50000/50000 [==============================] - 1s 28us/step - loss: 0.2197 - accuracy: 0.9233 - val_loss: 2.9039 - val_accuracy: 0.5245\n",
      "Epoch 28/100\n",
      "50000/50000 [==============================] - 1s 28us/step - loss: 0.2278 - accuracy: 0.9219 - val_loss: 3.0084 - val_accuracy: 0.5335\n",
      "Epoch 29/100\n",
      "50000/50000 [==============================] - 1s 27us/step - loss: 0.2042 - accuracy: 0.9297 - val_loss: 3.0662 - val_accuracy: 0.5240\n",
      "Epoch 30/100\n",
      "50000/50000 [==============================] - 1s 28us/step - loss: 0.1979 - accuracy: 0.9306 - val_loss: 3.1423 - val_accuracy: 0.5291\n",
      "Epoch 31/100\n",
      "50000/50000 [==============================] - 1s 28us/step - loss: 0.1908 - accuracy: 0.9336 - val_loss: 3.2422 - val_accuracy: 0.5292\n",
      "Epoch 32/100\n",
      "50000/50000 [==============================] - 1s 27us/step - loss: 0.1791 - accuracy: 0.9394 - val_loss: 3.1857 - val_accuracy: 0.5363\n",
      "Epoch 33/100\n",
      "50000/50000 [==============================] - 1s 28us/step - loss: 0.1624 - accuracy: 0.9439 - val_loss: 3.2990 - val_accuracy: 0.5309\n",
      "Epoch 34/100\n",
      "50000/50000 [==============================] - 1s 27us/step - loss: 0.2014 - accuracy: 0.9311 - val_loss: 3.1175 - val_accuracy: 0.5268\n",
      "Epoch 35/100\n",
      "50000/50000 [==============================] - 1s 27us/step - loss: 0.1597 - accuracy: 0.9454 - val_loss: 3.3494 - val_accuracy: 0.5253\n",
      "Epoch 36/100\n",
      "50000/50000 [==============================] - 1s 28us/step - loss: 0.1500 - accuracy: 0.9477 - val_loss: 3.3938 - val_accuracy: 0.5277\n",
      "Epoch 37/100\n",
      "50000/50000 [==============================] - 1s 27us/step - loss: 0.1612 - accuracy: 0.9459 - val_loss: 3.2851 - val_accuracy: 0.5306\n",
      "Epoch 38/100\n",
      "50000/50000 [==============================] - 1s 27us/step - loss: 0.1426 - accuracy: 0.9523 - val_loss: 3.5593 - val_accuracy: 0.5270\n",
      "Epoch 39/100\n",
      "50000/50000 [==============================] - 1s 27us/step - loss: 0.1547 - accuracy: 0.9472 - val_loss: 3.5287 - val_accuracy: 0.5305\n",
      "Epoch 40/100\n",
      "50000/50000 [==============================] - 1s 27us/step - loss: 0.1457 - accuracy: 0.9511 - val_loss: 3.5208 - val_accuracy: 0.5325\n",
      "Epoch 41/100\n",
      "50000/50000 [==============================] - 1s 27us/step - loss: 0.1373 - accuracy: 0.9530 - val_loss: 3.6513 - val_accuracy: 0.5266\n",
      "Epoch 42/100\n",
      "50000/50000 [==============================] - 1s 27us/step - loss: 0.1411 - accuracy: 0.9522 - val_loss: 3.6924 - val_accuracy: 0.5251\n",
      "Epoch 43/100\n",
      "50000/50000 [==============================] - 1s 27us/step - loss: 0.1339 - accuracy: 0.9555 - val_loss: 3.6938 - val_accuracy: 0.5283\n",
      "Epoch 44/100\n",
      "50000/50000 [==============================] - 1s 27us/step - loss: 0.1274 - accuracy: 0.9570 - val_loss: 3.6877 - val_accuracy: 0.5288\n",
      "Epoch 45/100\n",
      "50000/50000 [==============================] - 1s 28us/step - loss: 0.1334 - accuracy: 0.9549 - val_loss: 3.7838 - val_accuracy: 0.5347\n",
      "Epoch 46/100\n",
      "50000/50000 [==============================] - 1s 28us/step - loss: 0.1283 - accuracy: 0.9564 - val_loss: 3.7439 - val_accuracy: 0.5304\n",
      "Epoch 47/100\n",
      "50000/50000 [==============================] - 1s 28us/step - loss: 0.1255 - accuracy: 0.9589 - val_loss: 3.7938 - val_accuracy: 0.5302\n",
      "Epoch 48/100\n",
      "50000/50000 [==============================] - 1s 28us/step - loss: 0.1093 - accuracy: 0.9635 - val_loss: 3.9198 - val_accuracy: 0.5381\n",
      "Epoch 49/100\n",
      "50000/50000 [==============================] - 1s 28us/step - loss: 0.1267 - accuracy: 0.9574 - val_loss: 3.8604 - val_accuracy: 0.5308\n",
      "Epoch 50/100\n",
      "50000/50000 [==============================] - 1s 28us/step - loss: 0.1213 - accuracy: 0.9598 - val_loss: 3.9234 - val_accuracy: 0.5381\n",
      "Epoch 51/100\n",
      "50000/50000 [==============================] - 1s 27us/step - loss: 0.1036 - accuracy: 0.9652 - val_loss: 4.2223 - val_accuracy: 0.5300\n",
      "Epoch 52/100\n",
      "50000/50000 [==============================] - 1s 27us/step - loss: 0.1139 - accuracy: 0.9626 - val_loss: 4.0296 - val_accuracy: 0.5263\n",
      "Epoch 53/100\n",
      "50000/50000 [==============================] - 1s 28us/step - loss: 0.1239 - accuracy: 0.9592 - val_loss: 3.8325 - val_accuracy: 0.5210\n",
      "Epoch 54/100\n"
     ]
    },
    {
     "name": "stdout",
     "output_type": "stream",
     "text": [
      "50000/50000 [==============================] - 1s 27us/step - loss: 0.1015 - accuracy: 0.9652 - val_loss: 4.1337 - val_accuracy: 0.5222\n",
      "Epoch 55/100\n",
      "50000/50000 [==============================] - 1s 27us/step - loss: 0.1063 - accuracy: 0.9643 - val_loss: 4.0044 - val_accuracy: 0.5336\n",
      "Epoch 56/100\n",
      "50000/50000 [==============================] - 1s 27us/step - loss: 0.1106 - accuracy: 0.9631 - val_loss: 4.1583 - val_accuracy: 0.5360\n",
      "Epoch 57/100\n",
      "50000/50000 [==============================] - 1s 28us/step - loss: 0.0910 - accuracy: 0.9704 - val_loss: 4.0119 - val_accuracy: 0.5297\n",
      "Epoch 58/100\n",
      "50000/50000 [==============================] - 1s 27us/step - loss: 0.0987 - accuracy: 0.9671 - val_loss: 4.0851 - val_accuracy: 0.5361\n",
      "Epoch 59/100\n",
      "50000/50000 [==============================] - 1s 27us/step - loss: 0.1070 - accuracy: 0.9648 - val_loss: 4.1283 - val_accuracy: 0.5285\n",
      "Epoch 60/100\n",
      "50000/50000 [==============================] - 1s 27us/step - loss: 0.1056 - accuracy: 0.9651 - val_loss: 4.0527 - val_accuracy: 0.5248\n",
      "Epoch 61/100\n",
      "50000/50000 [==============================] - 1s 27us/step - loss: 0.0792 - accuracy: 0.9741 - val_loss: 4.1732 - val_accuracy: 0.5377\n",
      "Epoch 62/100\n",
      "50000/50000 [==============================] - 1s 27us/step - loss: 0.1134 - accuracy: 0.9634 - val_loss: 4.0833 - val_accuracy: 0.5305\n",
      "Epoch 63/100\n",
      "50000/50000 [==============================] - 1s 28us/step - loss: 0.0972 - accuracy: 0.9671 - val_loss: 4.3103 - val_accuracy: 0.5265\n",
      "Epoch 64/100\n",
      "50000/50000 [==============================] - 1s 27us/step - loss: 0.0962 - accuracy: 0.9685 - val_loss: 4.1518 - val_accuracy: 0.5248\n",
      "Epoch 65/100\n",
      "50000/50000 [==============================] - 1s 27us/step - loss: 0.1006 - accuracy: 0.9667 - val_loss: 4.2274 - val_accuracy: 0.5288\n",
      "Epoch 66/100\n",
      "50000/50000 [==============================] - 1s 28us/step - loss: 0.0795 - accuracy: 0.9732 - val_loss: 4.2658 - val_accuracy: 0.5285\n",
      "Epoch 67/100\n",
      "50000/50000 [==============================] - 1s 28us/step - loss: 0.0965 - accuracy: 0.9695 - val_loss: 4.3085 - val_accuracy: 0.5317\n",
      "Epoch 68/100\n",
      "50000/50000 [==============================] - 1s 28us/step - loss: 0.0866 - accuracy: 0.9721 - val_loss: 4.1344 - val_accuracy: 0.5312\n",
      "Epoch 69/100\n",
      "50000/50000 [==============================] - 1s 28us/step - loss: 0.0691 - accuracy: 0.9773 - val_loss: 4.4300 - val_accuracy: 0.5298\n",
      "Epoch 70/100\n",
      "50000/50000 [==============================] - 1s 28us/step - loss: 0.0845 - accuracy: 0.9715 - val_loss: 4.4050 - val_accuracy: 0.5267\n",
      "Epoch 71/100\n",
      "50000/50000 [==============================] - 1s 28us/step - loss: 0.1103 - accuracy: 0.9642 - val_loss: 4.1248 - val_accuracy: 0.5296\n",
      "Epoch 72/100\n",
      "50000/50000 [==============================] - 1s 27us/step - loss: 0.0872 - accuracy: 0.9714 - val_loss: 4.2522 - val_accuracy: 0.5336\n",
      "Epoch 73/100\n",
      "50000/50000 [==============================] - 1s 28us/step - loss: 0.0741 - accuracy: 0.9758 - val_loss: 4.3191 - val_accuracy: 0.5336\n",
      "Epoch 74/100\n",
      "50000/50000 [==============================] - 1s 28us/step - loss: 0.0737 - accuracy: 0.9761 - val_loss: 4.3158 - val_accuracy: 0.5343\n",
      "Epoch 75/100\n",
      "50000/50000 [==============================] - 1s 28us/step - loss: 0.0824 - accuracy: 0.9723 - val_loss: 4.2686 - val_accuracy: 0.5296\n",
      "Epoch 76/100\n",
      "50000/50000 [==============================] - 1s 28us/step - loss: 0.0961 - accuracy: 0.9697 - val_loss: 4.3526 - val_accuracy: 0.5348\n",
      "Epoch 77/100\n",
      "50000/50000 [==============================] - 1s 28us/step - loss: 0.0816 - accuracy: 0.9722 - val_loss: 4.3998 - val_accuracy: 0.5341\n",
      "Epoch 78/100\n",
      "50000/50000 [==============================] - 1s 28us/step - loss: 0.0702 - accuracy: 0.9774 - val_loss: 4.3262 - val_accuracy: 0.5280\n",
      "Epoch 79/100\n",
      "50000/50000 [==============================] - 1s 28us/step - loss: 0.0608 - accuracy: 0.9809 - val_loss: 4.4842 - val_accuracy: 0.5377\n",
      "Epoch 80/100\n",
      "50000/50000 [==============================] - 1s 28us/step - loss: 0.0879 - accuracy: 0.9717 - val_loss: 4.3023 - val_accuracy: 0.5302\n",
      "Epoch 81/100\n",
      "50000/50000 [==============================] - 1s 28us/step - loss: 0.0725 - accuracy: 0.9772 - val_loss: 4.5367 - val_accuracy: 0.5295\n",
      "Epoch 82/100\n",
      "50000/50000 [==============================] - 1s 28us/step - loss: 0.0884 - accuracy: 0.9718 - val_loss: 4.5044 - val_accuracy: 0.5270\n",
      "Epoch 83/100\n",
      "50000/50000 [==============================] - 1s 28us/step - loss: 0.0725 - accuracy: 0.9763 - val_loss: 4.4160 - val_accuracy: 0.5280\n",
      "Epoch 84/100\n",
      "50000/50000 [==============================] - 1s 29us/step - loss: 0.0676 - accuracy: 0.9776 - val_loss: 4.5861 - val_accuracy: 0.5321\n",
      "Epoch 85/100\n",
      "50000/50000 [==============================] - 1s 28us/step - loss: 0.0784 - accuracy: 0.9748 - val_loss: 4.5393 - val_accuracy: 0.5341\n",
      "Epoch 86/100\n",
      "50000/50000 [==============================] - 1s 28us/step - loss: 0.0821 - accuracy: 0.9737 - val_loss: 4.5039 - val_accuracy: 0.5358\n",
      "Epoch 87/100\n",
      "50000/50000 [==============================] - 1s 28us/step - loss: 0.0674 - accuracy: 0.9785 - val_loss: 4.5290 - val_accuracy: 0.5364\n",
      "Epoch 88/100\n",
      "50000/50000 [==============================] - 1s 28us/step - loss: 0.0649 - accuracy: 0.9794 - val_loss: 4.5685 - val_accuracy: 0.5312\n",
      "Epoch 89/100\n",
      "50000/50000 [==============================] - 1s 29us/step - loss: 0.0767 - accuracy: 0.9766 - val_loss: 4.3977 - val_accuracy: 0.5298\n",
      "Epoch 90/100\n",
      "50000/50000 [==============================] - 1s 29us/step - loss: 0.0679 - accuracy: 0.9776 - val_loss: 4.5703 - val_accuracy: 0.5313\n",
      "Epoch 91/100\n",
      "50000/50000 [==============================] - 1s 29us/step - loss: 0.0680 - accuracy: 0.9782 - val_loss: 4.7020 - val_accuracy: 0.5323\n",
      "Epoch 92/100\n",
      "50000/50000 [==============================] - 1s 28us/step - loss: 0.0682 - accuracy: 0.9779 - val_loss: 4.4308 - val_accuracy: 0.5332\n",
      "Epoch 93/100\n",
      "50000/50000 [==============================] - 1s 28us/step - loss: 0.0724 - accuracy: 0.9770 - val_loss: 4.5226 - val_accuracy: 0.5343\n",
      "Epoch 94/100\n",
      "50000/50000 [==============================] - 1s 28us/step - loss: 0.0720 - accuracy: 0.9768 - val_loss: 4.6114 - val_accuracy: 0.5267\n",
      "Epoch 95/100\n",
      "50000/50000 [==============================] - 1s 28us/step - loss: 0.0734 - accuracy: 0.9761 - val_loss: 4.7985 - val_accuracy: 0.5318\n",
      "Epoch 96/100\n",
      "50000/50000 [==============================] - 1s 28us/step - loss: 0.0516 - accuracy: 0.9831 - val_loss: 4.6068 - val_accuracy: 0.5310\n",
      "Epoch 97/100\n",
      "50000/50000 [==============================] - 1s 28us/step - loss: 0.0519 - accuracy: 0.9835 - val_loss: 4.6894 - val_accuracy: 0.5380\n",
      "Epoch 98/100\n",
      "50000/50000 [==============================] - 1s 28us/step - loss: 0.0650 - accuracy: 0.9793 - val_loss: 4.5531 - val_accuracy: 0.5379\n",
      "Epoch 99/100\n",
      "50000/50000 [==============================] - 1s 28us/step - loss: 0.0951 - accuracy: 0.9708 - val_loss: 4.4669 - val_accuracy: 0.5334\n",
      "Epoch 100/100\n",
      "50000/50000 [==============================] - 1s 28us/step - loss: 0.0818 - accuracy: 0.9741 - val_loss: 4.4746 - val_accuracy: 0.5340\n"
     ]
    },
    {
     "data": {
      "text/plain": [
       "<keras.callbacks.callbacks.History at 0x1b90ee72048>"
      ]
     },
     "execution_count": 9,
     "metadata": {},
     "output_type": "execute_result"
    }
   ],
   "source": [
    "model.fit(x_train, y_train, \n",
    "          epochs=EPOCHS, \n",
    "          batch_size=BATCH_SIZE, \n",
    "          validation_data=(x_test, y_test), \n",
    "          shuffle=True)"
   ]
  },
  {
   "cell_type": "code",
   "execution_count": 11,
   "metadata": {},
   "outputs": [
    {
     "data": {
      "image/png": "[encoded data removed]",
      "text/plain": [
       "<Figure size 432x288 with 1 Axes>"
      ]
     },
     "metadata": {
      "needs_background": "light"
     },
     "output_type": "display_data"
    },
    {
     "data": {
      "image/png": "[encoded data removed]",
      "text/plain": [
       "<Figure size 432x288 with 1 Axes>"
      ]
     },
     "metadata": {
      "needs_background": "light"
     },
     "output_type": "display_data"
    }
   ],
   "source": [
    "import matplotlib.pyplot as plt\n",
    "\n",
    "\n",
    "train_loss = model.history.history[\"loss\"]\n",
    "valid_loss = model.history.history[\"val_loss\"]\n",
    "\n",
    "train_acc = model.history.history[\"accuracy\"]\n",
    "valid_acc = model.history.history[\"val_accuracy\"]\n",
    "\n",
    "plt.plot(range(len(train_loss)), train_loss, label=\"train loss\")\n",
    "plt.plot(range(len(valid_loss)), valid_loss, label=\"valid loss\")\n",
    "plt.legend()\n",
    "plt.title(\"Loss\")\n",
    "plt.show()\n",
    "\n",
    "plt.plot(range(len(train_acc)), train_acc, label=\"train accuracy\")\n",
    "plt.plot(range(len(valid_acc)), valid_acc, label=\"valid accuracy\")\n",
    "plt.legend()\n",
    "plt.title(\"Accuracy\")\n",
    "plt.show()"
   ]
  },
  {
   "cell_type": "code",
   "execution_count": null,
   "metadata": {},
   "outputs": [],
   "source": []
  }
 ],
 "metadata": {
  "kernelspec": {
   "display_name": "Python 3.7.7 64-bit ('tensorflow': conda)",
   "language": "python",
   "name": "python37764bittensorflowcondabe2e4336b96f48d4b87e149945cb22b6"
  },
  "language_info": {
   "codemirror_mode": {
    "name": "ipython",
    "version": 3
   },
   "file_extension": ".py",
   "mimetype": "text/x-python",
   "name": "python",
   "nbconvert_exporter": "python",
   "pygments_lexer": "ipython3",
   "version": "3.7.7"
  }
 },
 "nbformat": 4,
 "nbformat_minor": 2
}
