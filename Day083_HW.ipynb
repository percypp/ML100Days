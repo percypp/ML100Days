{
 "cells": [
  {
   "cell_type": "markdown",
   "metadata": {},
   "source": [
    "## Work\n",
    "1. 試比較有 BN 在 Batch_size = 2, 16, 32, 128, 256 下的差異\n",
    "2. 請嘗試將 BN 放在 Activation 之前，並比較訓練結果\n",
    "3. 請於 BN 放在 Input Layer 後，並比較結果"
   ]
  },
  {
   "cell_type": "code",
   "execution_count": 1,
   "metadata": {},
   "outputs": [
    {
     "name": "stderr",
     "output_type": "stream",
     "text": [
      "Using TensorFlow backend.\n",
      "C:\\Users\\percy\\anaconda3\\envs\\tensorflow\\lib\\site-packages\\tensorflow\\python\\framework\\dtypes.py:516: FutureWarning: Passing (type, 1) or '1type' as a synonym of type is deprecated; in a future version of numpy, it will be understood as (type, (1,)) / '(1,)type'.\n",
      "  _np_qint8 = np.dtype([(\"qint8\", np.int8, 1)])\n",
      "C:\\Users\\percy\\anaconda3\\envs\\tensorflow\\lib\\site-packages\\tensorflow\\python\\framework\\dtypes.py:517: FutureWarning: Passing (type, 1) or '1type' as a synonym of type is deprecated; in a future version of numpy, it will be understood as (type, (1,)) / '(1,)type'.\n",
      "  _np_quint8 = np.dtype([(\"quint8\", np.uint8, 1)])\n",
      "C:\\Users\\percy\\anaconda3\\envs\\tensorflow\\lib\\site-packages\\tensorflow\\python\\framework\\dtypes.py:518: FutureWarning: Passing (type, 1) or '1type' as a synonym of type is deprecated; in a future version of numpy, it will be understood as (type, (1,)) / '(1,)type'.\n",
      "  _np_qint16 = np.dtype([(\"qint16\", np.int16, 1)])\n",
      "C:\\Users\\percy\\anaconda3\\envs\\tensorflow\\lib\\site-packages\\tensorflow\\python\\framework\\dtypes.py:519: FutureWarning: Passing (type, 1) or '1type' as a synonym of type is deprecated; in a future version of numpy, it will be understood as (type, (1,)) / '(1,)type'.\n",
      "  _np_quint16 = np.dtype([(\"quint16\", np.uint16, 1)])\n",
      "C:\\Users\\percy\\anaconda3\\envs\\tensorflow\\lib\\site-packages\\tensorflow\\python\\framework\\dtypes.py:520: FutureWarning: Passing (type, 1) or '1type' as a synonym of type is deprecated; in a future version of numpy, it will be understood as (type, (1,)) / '(1,)type'.\n",
      "  _np_qint32 = np.dtype([(\"qint32\", np.int32, 1)])\n",
      "C:\\Users\\percy\\anaconda3\\envs\\tensorflow\\lib\\site-packages\\tensorflow\\python\\framework\\dtypes.py:525: FutureWarning: Passing (type, 1) or '1type' as a synonym of type is deprecated; in a future version of numpy, it will be understood as (type, (1,)) / '(1,)type'.\n",
      "  np_resource = np.dtype([(\"resource\", np.ubyte, 1)])\n",
      "C:\\Users\\percy\\anaconda3\\envs\\tensorflow\\lib\\site-packages\\tensorboard\\compat\\tensorflow_stub\\dtypes.py:541: FutureWarning: Passing (type, 1) or '1type' as a synonym of type is deprecated; in a future version of numpy, it will be understood as (type, (1,)) / '(1,)type'.\n",
      "  _np_qint8 = np.dtype([(\"qint8\", np.int8, 1)])\n",
      "C:\\Users\\percy\\anaconda3\\envs\\tensorflow\\lib\\site-packages\\tensorboard\\compat\\tensorflow_stub\\dtypes.py:542: FutureWarning: Passing (type, 1) or '1type' as a synonym of type is deprecated; in a future version of numpy, it will be understood as (type, (1,)) / '(1,)type'.\n",
      "  _np_quint8 = np.dtype([(\"quint8\", np.uint8, 1)])\n",
      "C:\\Users\\percy\\anaconda3\\envs\\tensorflow\\lib\\site-packages\\tensorboard\\compat\\tensorflow_stub\\dtypes.py:543: FutureWarning: Passing (type, 1) or '1type' as a synonym of type is deprecated; in a future version of numpy, it will be understood as (type, (1,)) / '(1,)type'.\n",
      "  _np_qint16 = np.dtype([(\"qint16\", np.int16, 1)])\n",
      "C:\\Users\\percy\\anaconda3\\envs\\tensorflow\\lib\\site-packages\\tensorboard\\compat\\tensorflow_stub\\dtypes.py:544: FutureWarning: Passing (type, 1) or '1type' as a synonym of type is deprecated; in a future version of numpy, it will be understood as (type, (1,)) / '(1,)type'.\n",
      "  _np_quint16 = np.dtype([(\"quint16\", np.uint16, 1)])\n",
      "C:\\Users\\percy\\anaconda3\\envs\\tensorflow\\lib\\site-packages\\tensorboard\\compat\\tensorflow_stub\\dtypes.py:545: FutureWarning: Passing (type, 1) or '1type' as a synonym of type is deprecated; in a future version of numpy, it will be understood as (type, (1,)) / '(1,)type'.\n",
      "  _np_qint32 = np.dtype([(\"qint32\", np.int32, 1)])\n",
      "C:\\Users\\percy\\anaconda3\\envs\\tensorflow\\lib\\site-packages\\tensorboard\\compat\\tensorflow_stub\\dtypes.py:550: FutureWarning: Passing (type, 1) or '1type' as a synonym of type is deprecated; in a future version of numpy, it will be understood as (type, (1,)) / '(1,)type'.\n",
      "  np_resource = np.dtype([(\"resource\", np.ubyte, 1)])\n"
     ]
    }
   ],
   "source": [
    "import os\n",
    "import keras\n",
    "import itertools\n",
    "# Disable GPU\n",
    "os.environ[\"CUDA_VISIBLE_DEVICES\"] = \"0\""
   ]
  },
  {
   "cell_type": "code",
   "execution_count": 2,
   "metadata": {},
   "outputs": [],
   "source": [
    "train, test = keras.datasets.cifar10.load_data()"
   ]
  },
  {
   "cell_type": "code",
   "execution_count": 3,
   "metadata": {},
   "outputs": [],
   "source": [
    "## 資料前處理\n",
    "def preproc_x(x, flatten=True):\n",
    "    x = x / 255.\n",
    "    if flatten:\n",
    "        x = x.reshape((len(x), -1))\n",
    "    return x\n",
    "\n",
    "def preproc_y(y, num_classes=10):\n",
    "    if y.shape[-1] == 1:\n",
    "        y = keras.utils.to_categorical(y, num_classes)\n",
    "    return y    "
   ]
  },
  {
   "cell_type": "code",
   "execution_count": 4,
   "metadata": {},
   "outputs": [],
   "source": [
    "x_train, y_train = train\n",
    "x_test, y_test = test\n",
    "\n",
    "# Preproc the inputs\n",
    "x_train = preproc_x(x_train)\n",
    "x_test = preproc_x(x_test)\n",
    "\n",
    "# Preprc the outputs\n",
    "y_train = preproc_y(y_train)\n",
    "y_test = preproc_y(y_test)"
   ]
  },
  {
   "cell_type": "code",
   "execution_count": 5,
   "metadata": {},
   "outputs": [],
   "source": [
    "from keras.layers import BatchNormalization\n",
    "\n",
    "\"\"\"\n",
    "建立神經網路，並加入 BN layer\n",
    "\"\"\"\n",
    "def build_mlp(input_shape, output_units=10, num_neurons=[512, 256, 128]):\n",
    "    input_layer = keras.layers.Input(input_shape)\n",
    "    \n",
    "    for i, n_units in enumerate(num_neurons):\n",
    "        if i == 0:\n",
    "            x = keras.layers.Dense(units=n_units, \n",
    "                                   activation=\"relu\", \n",
    "                                   name=\"hidden_layer\"+str(i+1))(input_layer)\n",
    "            x = BatchNormalization()(x)\n",
    "        else:\n",
    "            x = keras.layers.Dense(units=n_units, \n",
    "                                   activation=\"relu\", \n",
    "                                   name=\"hidden_layer\"+str(i+1))(x)\n",
    "            x = BatchNormalization()(x)\n",
    "    \n",
    "    out = keras.layers.Dense(units=output_units, activation=\"softmax\", name=\"output\")(x)\n",
    "    \n",
    "    model = keras.models.Model(inputs=[input_layer], outputs=[out])\n",
    "    return model"
   ]
  },
  {
   "cell_type": "code",
   "execution_count": 6,
   "metadata": {},
   "outputs": [],
   "source": [
    "## 超參數設定\n",
    "LEARNING_RATE = 1e-3\n",
    "EPOCHS = 50\n",
    "BATCH_SIZE = 2\n",
    "MOMENTUM = 0.95"
   ]
  },
  {
   "cell_type": "code",
   "execution_count": 7,
   "metadata": {
    "scrolled": true
   },
   "outputs": [
    {
     "name": "stdout",
     "output_type": "stream",
     "text": [
      "Model: \"model_1\"\n",
      "_________________________________________________________________\n",
      "Layer (type)                 Output Shape              Param #   \n",
      "=================================================================\n",
      "input_1 (InputLayer)         (None, 3072)              0         \n",
      "_________________________________________________________________\n",
      "hidden_layer1 (Dense)        (None, 512)               1573376   \n",
      "_________________________________________________________________\n",
      "batch_normalization_1 (Batch (None, 512)               2048      \n",
      "_________________________________________________________________\n",
      "hidden_layer2 (Dense)        (None, 256)               131328    \n",
      "_________________________________________________________________\n",
      "batch_normalization_2 (Batch (None, 256)               1024      \n",
      "_________________________________________________________________\n",
      "hidden_layer3 (Dense)        (None, 128)               32896     \n",
      "_________________________________________________________________\n",
      "batch_normalization_3 (Batch (None, 128)               512       \n",
      "_________________________________________________________________\n",
      "output (Dense)               (None, 10)                1290      \n",
      "=================================================================\n",
      "Total params: 1,742,474\n",
      "Trainable params: 1,740,682\n",
      "Non-trainable params: 1,792\n",
      "_________________________________________________________________\n",
      "WARNING:tensorflow:From C:\\Users\\percy\\anaconda3\\envs\\tensorflow\\lib\\site-packages\\keras\\backend\\tensorflow_backend.py:422: The name tf.global_variables is deprecated. Please use tf.compat.v1.global_variables instead.\n",
      "\n",
      "Train on 50000 samples, validate on 10000 samples\n",
      "Epoch 1/50\n",
      "50000/50000 [==============================] - 95s 2ms/step - loss: 2.3084 - accuracy: 0.1497 - val_loss: 2.1746 - val_accuracy: 0.2023\n",
      "Epoch 2/50\n",
      "50000/50000 [==============================] - 94s 2ms/step - loss: 2.2397 - accuracy: 0.1690 - val_loss: 2.2182 - val_accuracy: 0.2196\n",
      "Epoch 3/50\n",
      "50000/50000 [==============================] - 94s 2ms/step - loss: 2.2420 - accuracy: 0.1616 - val_loss: 2.2144 - val_accuracy: 0.1955\n",
      "Epoch 4/50\n",
      "50000/50000 [==============================] - 94s 2ms/step - loss: 2.2333 - accuracy: 0.1656 - val_loss: 2.5956 - val_accuracy: 0.2070\n",
      "Epoch 5/50\n",
      "50000/50000 [==============================] - 94s 2ms/step - loss: 2.2339 - accuracy: 0.1653 - val_loss: 3.0634 - val_accuracy: 0.1896\n",
      "Epoch 6/50\n",
      "50000/50000 [==============================] - 94s 2ms/step - loss: 2.2338 - accuracy: 0.1657 - val_loss: 3.0122 - val_accuracy: 0.1996\n",
      "Epoch 7/50\n",
      "50000/50000 [==============================] - 94s 2ms/step - loss: 2.2395 - accuracy: 0.1630 - val_loss: 28.6283 - val_accuracy: 0.2009\n",
      "Epoch 8/50\n",
      "50000/50000 [==============================] - 93s 2ms/step - loss: 2.2380 - accuracy: 0.1631 - val_loss: 255.6943 - val_accuracy: 0.1827\n",
      "Epoch 9/50\n",
      "50000/50000 [==============================] - 92s 2ms/step - loss: 2.2321 - accuracy: 0.1639 - val_loss: 166.8814 - val_accuracy: 0.1613\n",
      "Epoch 10/50\n",
      "50000/50000 [==============================] - 93s 2ms/step - loss: 2.2401 - accuracy: 0.1625 - val_loss: 446.6300 - val_accuracy: 0.1741\n",
      "Epoch 11/50\n",
      "50000/50000 [==============================] - 93s 2ms/step - loss: 2.2344 - accuracy: 0.1656 - val_loss: 800.4371 - val_accuracy: 0.2096\n",
      "Epoch 12/50\n",
      "50000/50000 [==============================] - 92s 2ms/step - loss: 2.2330 - accuracy: 0.1681 - val_loss: 515.9288 - val_accuracy: 0.2164\n",
      "Epoch 13/50\n",
      "50000/50000 [==============================] - 93s 2ms/step - loss: 2.2355 - accuracy: 0.1645 - val_loss: 739.9645 - val_accuracy: 0.1840\n",
      "Epoch 14/50\n",
      "50000/50000 [==============================] - 92s 2ms/step - loss: 2.2354 - accuracy: 0.1687 - val_loss: 271.5357 - val_accuracy: 0.1843\n",
      "Epoch 15/50\n",
      "50000/50000 [==============================] - 91s 2ms/step - loss: 2.2431 - accuracy: 0.1654 - val_loss: 274.6056 - val_accuracy: 0.2054\n",
      "Epoch 16/50\n",
      "50000/50000 [==============================] - 91s 2ms/step - loss: 2.2416 - accuracy: 0.1644 - val_loss: 257.5274 - val_accuracy: 0.2210\n",
      "Epoch 17/50\n",
      "50000/50000 [==============================] - 92s 2ms/step - loss: 2.2416 - accuracy: 0.1628 - val_loss: 440.8468 - val_accuracy: 0.1854\n",
      "Epoch 18/50\n",
      "50000/50000 [==============================] - 94s 2ms/step - loss: 2.2602 - accuracy: 0.1454 - val_loss: 419.0076 - val_accuracy: 0.1834\n",
      "Epoch 19/50\n",
      "50000/50000 [==============================] - 94s 2ms/step - loss: 2.2759 - accuracy: 0.1313 - val_loss: 640.2283 - val_accuracy: 0.1401\n",
      "Epoch 20/50\n",
      "50000/50000 [==============================] - 94s 2ms/step - loss: 2.2928 - accuracy: 0.1241 - val_loss: 414.7201 - val_accuracy: 0.1335\n",
      "Epoch 21/50\n",
      "50000/50000 [==============================] - 93s 2ms/step - loss: 2.2972 - accuracy: 0.1171 - val_loss: 75.9929 - val_accuracy: 0.1328\n",
      "Epoch 22/50\n",
      "50000/50000 [==============================] - 94s 2ms/step - loss: 2.2976 - accuracy: 0.1170 - val_loss: 133.1196 - val_accuracy: 0.1160\n",
      "Epoch 23/50\n",
      "50000/50000 [==============================] - 93s 2ms/step - loss: 2.2971 - accuracy: 0.1164 - val_loss: 95.5748 - val_accuracy: 0.1116\n",
      "Epoch 24/50\n",
      "50000/50000 [==============================] - 94s 2ms/step - loss: 2.2885 - accuracy: 0.1244 - val_loss: 72.3488 - val_accuracy: 0.1256\n",
      "Epoch 25/50\n",
      "50000/50000 [==============================] - 93s 2ms/step - loss: 2.2799 - accuracy: 0.1341 - val_loss: 88.7377 - val_accuracy: 0.1174\n",
      "Epoch 26/50\n",
      "50000/50000 [==============================] - 93s 2ms/step - loss: 2.2838 - accuracy: 0.1276 - val_loss: 78.4522 - val_accuracy: 0.1060\n",
      "Epoch 27/50\n",
      "50000/50000 [==============================] - 94s 2ms/step - loss: 2.2857 - accuracy: 0.1247 - val_loss: 91.6085 - val_accuracy: 0.1329\n",
      "Epoch 28/50\n",
      "50000/50000 [==============================] - 93s 2ms/step - loss: 2.2902 - accuracy: 0.1196 - val_loss: 35.5218 - val_accuracy: 0.1064\n",
      "Epoch 29/50\n",
      "50000/50000 [==============================] - 94s 2ms/step - loss: 2.3003 - accuracy: 0.1130 - val_loss: 42.1006 - val_accuracy: 0.0949\n",
      "Epoch 30/50\n",
      "50000/50000 [==============================] - 93s 2ms/step - loss: 2.2976 - accuracy: 0.1152 - val_loss: 31.0710 - val_accuracy: 0.1153\n",
      "Epoch 31/50\n",
      "50000/50000 [==============================] - 94s 2ms/step - loss: 2.2920 - accuracy: 0.1196 - val_loss: 42.1537 - val_accuracy: 0.0971\n",
      "Epoch 32/50\n",
      "50000/50000 [==============================] - 93s 2ms/step - loss: 2.3009 - accuracy: 0.1106 - val_loss: 13.0150 - val_accuracy: 0.1034\n",
      "Epoch 33/50\n",
      "50000/50000 [==============================] - 93s 2ms/step - loss: 2.2994 - accuracy: 0.1159 - val_loss: 25.1657 - val_accuracy: 0.1078\n",
      "Epoch 34/50\n",
      "50000/50000 [==============================] - 93s 2ms/step - loss: 2.3001 - accuracy: 0.1114 - val_loss: 19.8378 - val_accuracy: 0.0983\n",
      "Epoch 35/50\n",
      "50000/50000 [==============================] - 93s 2ms/step - loss: 2.2993 - accuracy: 0.1148 - val_loss: 16.9615 - val_accuracy: 0.0988\n",
      "Epoch 36/50\n",
      "50000/50000 [==============================] - 94s 2ms/step - loss: 2.2991 - accuracy: 0.1130 - val_loss: 24.1755 - val_accuracy: 0.0988\n",
      "Epoch 37/50\n",
      "50000/50000 [==============================] - 93s 2ms/step - loss: 2.2997 - accuracy: 0.1127 - val_loss: 20.5683 - val_accuracy: 0.0998\n",
      "Epoch 38/50\n",
      "50000/50000 [==============================] - 93s 2ms/step - loss: 2.2991 - accuracy: 0.1125 - val_loss: 15.9975 - val_accuracy: 0.1087\n",
      "Epoch 39/50\n",
      "50000/50000 [==============================] - 93s 2ms/step - loss: 2.2990 - accuracy: 0.1144 - val_loss: 20.6439 - val_accuracy: 0.1189\n",
      "Epoch 40/50\n",
      "50000/50000 [==============================] - 94s 2ms/step - loss: 2.2999 - accuracy: 0.1131 - val_loss: 16.1396 - val_accuracy: 0.1110\n",
      "Epoch 41/50\n",
      "50000/50000 [==============================] - 94s 2ms/step - loss: 2.2998 - accuracy: 0.1144 - val_loss: 11.0279 - val_accuracy: 0.1133\n",
      "Epoch 42/50\n",
      "50000/50000 [==============================] - 94s 2ms/step - loss: 2.2989 - accuracy: 0.1144 - val_loss: 21.7751 - val_accuracy: 0.1148\n",
      "Epoch 43/50\n",
      "50000/50000 [==============================] - 94s 2ms/step - loss: 2.2998 - accuracy: 0.1107 - val_loss: 12.7428 - val_accuracy: 0.1210\n",
      "Epoch 44/50\n"
     ]
    },
    {
     "name": "stdout",
     "output_type": "stream",
     "text": [
      "50000/50000 [==============================] - 93s 2ms/step - loss: 2.3002 - accuracy: 0.1127 - val_loss: 11.6319 - val_accuracy: 0.1107\n",
      "Epoch 45/50\n",
      "50000/50000 [==============================] - 93s 2ms/step - loss: 2.2991 - accuracy: 0.1133 - val_loss: 14.9604 - val_accuracy: 0.1247\n",
      "Epoch 46/50\n",
      "50000/50000 [==============================] - 94s 2ms/step - loss: 2.3005 - accuracy: 0.1138 - val_loss: 10.6358 - val_accuracy: 0.1192\n",
      "Epoch 47/50\n",
      "50000/50000 [==============================] - 94s 2ms/step - loss: 2.2989 - accuracy: 0.1145 - val_loss: 8.2068 - val_accuracy: 0.1202\n",
      "Epoch 48/50\n",
      "50000/50000 [==============================] - 93s 2ms/step - loss: 2.2997 - accuracy: 0.1141 - val_loss: 5.7926 - val_accuracy: 0.1024\n",
      "Epoch 49/50\n",
      "50000/50000 [==============================] - 94s 2ms/step - loss: 2.2997 - accuracy: 0.1121 - val_loss: 13.1909 - val_accuracy: 0.0988\n",
      "Epoch 50/50\n",
      "50000/50000 [==============================] - 93s 2ms/step - loss: 2.2993 - accuracy: 0.1118 - val_loss: 11.8973 - val_accuracy: 0.1117\n"
     ]
    }
   ],
   "source": [
    "results = {}\n",
    "\"\"\"Code Here\n",
    "撰寫你的訓練流程並將結果用 dictionary 紀錄\n",
    "\"\"\"\n",
    "model = build_mlp(input_shape=x_train.shape[1:])\n",
    "model.summary()\n",
    "optimizer = keras.optimizers.SGD(lr=LEARNING_RATE, nesterov=True, momentum=MOMENTUM)\n",
    "model.compile(loss=\"categorical_crossentropy\", metrics=[\"accuracy\"], optimizer=optimizer)\n",
    "\n",
    "model.fit(x_train, y_train, \n",
    "          epochs=EPOCHS, \n",
    "          batch_size=BATCH_SIZE, \n",
    "          validation_data=(x_test, y_test), \n",
    "          shuffle=True)\n",
    "\n",
    "# Collect results\n",
    "train_loss = model.history.history[\"loss\"]\n",
    "valid_loss = model.history.history[\"val_loss\"]\n",
    "train_acc = model.history.history[\"accuracy\"]\n",
    "valid_acc = model.history.history[\"val_accuracy\"]"
   ]
  },
  {
   "cell_type": "code",
   "execution_count": 8,
   "metadata": {},
   "outputs": [
    {
     "data": {
      "image/png": "[encoded data removed]",
      "text/plain": [
       "<Figure size 432x288 with 1 Axes>"
      ]
     },
     "metadata": {
      "needs_background": "light"
     },
     "output_type": "display_data"
    },
    {
     "data": {
      "image/png": "[encoded data removed]",
      "text/plain": [
       "<Figure size 432x288 with 1 Axes>"
      ]
     },
     "metadata": {
      "needs_background": "light"
     },
     "output_type": "display_data"
    }
   ],
   "source": [
    "import matplotlib.pyplot as plt\n",
    "%matplotlib inline\n",
    "\n",
    "plt.plot(range(len(train_loss)), train_loss, label=\"train loss\")\n",
    "plt.plot(range(len(valid_loss)), valid_loss, label=\"valid loss\")\n",
    "plt.legend()\n",
    "plt.title(\"Loss\")\n",
    "plt.show()\n",
    "\n",
    "plt.plot(range(len(train_acc)), train_acc, label=\"train accuracy\")\n",
    "plt.plot(range(len(valid_acc)), valid_acc, label=\"valid accuracy\")\n",
    "plt.legend()\n",
    "plt.title(\"Accuracy\")\n",
    "plt.show()"
   ]
  }
 ],
 "metadata": {
  "kernelspec": {
   "display_name": "Python 3.7.7 64-bit ('tensorflow': conda)",
   "language": "python",
   "name": "python37764bittensorflowcondabe2e4336b96f48d4b87e149945cb22b6"
  },
  "language_info": {
   "codemirror_mode": {
    "name": "ipython",
    "version": 3
   },
   "file_extension": ".py",
   "mimetype": "text/x-python",
   "name": "python",
   "nbconvert_exporter": "python",
   "pygments_lexer": "ipython3",
   "version": "3.7.7"
  }
 },
 "nbformat": 4,
 "nbformat_minor": 2
}
