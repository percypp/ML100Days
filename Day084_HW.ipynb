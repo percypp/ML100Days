{
 "cells": [
  {
   "cell_type": "markdown",
   "metadata": {},
   "source": [
    "## Work\n",
    "### 請結合前面的知識與程式碼，比較不同的 regularization 的組合對訓練的結果與影響：如 dropout, regularizers, batch-normalization 等"
   ]
  },
  {
   "cell_type": "code",
   "execution_count": 1,
   "metadata": {},
   "outputs": [
    {
     "name": "stderr",
     "output_type": "stream",
     "text": [
      "Using TensorFlow backend.\n",
      "C:\\Users\\percy\\anaconda3\\envs\\tensorflow\\lib\\site-packages\\tensorflow\\python\\framework\\dtypes.py:516: FutureWarning: Passing (type, 1) or '1type' as a synonym of type is deprecated; in a future version of numpy, it will be understood as (type, (1,)) / '(1,)type'.\n",
      "  _np_qint8 = np.dtype([(\"qint8\", np.int8, 1)])\n",
      "C:\\Users\\percy\\anaconda3\\envs\\tensorflow\\lib\\site-packages\\tensorflow\\python\\framework\\dtypes.py:517: FutureWarning: Passing (type, 1) or '1type' as a synonym of type is deprecated; in a future version of numpy, it will be understood as (type, (1,)) / '(1,)type'.\n",
      "  _np_quint8 = np.dtype([(\"quint8\", np.uint8, 1)])\n",
      "C:\\Users\\percy\\anaconda3\\envs\\tensorflow\\lib\\site-packages\\tensorflow\\python\\framework\\dtypes.py:518: FutureWarning: Passing (type, 1) or '1type' as a synonym of type is deprecated; in a future version of numpy, it will be understood as (type, (1,)) / '(1,)type'.\n",
      "  _np_qint16 = np.dtype([(\"qint16\", np.int16, 1)])\n",
      "C:\\Users\\percy\\anaconda3\\envs\\tensorflow\\lib\\site-packages\\tensorflow\\python\\framework\\dtypes.py:519: FutureWarning: Passing (type, 1) or '1type' as a synonym of type is deprecated; in a future version of numpy, it will be understood as (type, (1,)) / '(1,)type'.\n",
      "  _np_quint16 = np.dtype([(\"quint16\", np.uint16, 1)])\n",
      "C:\\Users\\percy\\anaconda3\\envs\\tensorflow\\lib\\site-packages\\tensorflow\\python\\framework\\dtypes.py:520: FutureWarning: Passing (type, 1) or '1type' as a synonym of type is deprecated; in a future version of numpy, it will be understood as (type, (1,)) / '(1,)type'.\n",
      "  _np_qint32 = np.dtype([(\"qint32\", np.int32, 1)])\n",
      "C:\\Users\\percy\\anaconda3\\envs\\tensorflow\\lib\\site-packages\\tensorflow\\python\\framework\\dtypes.py:525: FutureWarning: Passing (type, 1) or '1type' as a synonym of type is deprecated; in a future version of numpy, it will be understood as (type, (1,)) / '(1,)type'.\n",
      "  np_resource = np.dtype([(\"resource\", np.ubyte, 1)])\n",
      "C:\\Users\\percy\\anaconda3\\envs\\tensorflow\\lib\\site-packages\\tensorboard\\compat\\tensorflow_stub\\dtypes.py:541: FutureWarning: Passing (type, 1) or '1type' as a synonym of type is deprecated; in a future version of numpy, it will be understood as (type, (1,)) / '(1,)type'.\n",
      "  _np_qint8 = np.dtype([(\"qint8\", np.int8, 1)])\n",
      "C:\\Users\\percy\\anaconda3\\envs\\tensorflow\\lib\\site-packages\\tensorboard\\compat\\tensorflow_stub\\dtypes.py:542: FutureWarning: Passing (type, 1) or '1type' as a synonym of type is deprecated; in a future version of numpy, it will be understood as (type, (1,)) / '(1,)type'.\n",
      "  _np_quint8 = np.dtype([(\"quint8\", np.uint8, 1)])\n",
      "C:\\Users\\percy\\anaconda3\\envs\\tensorflow\\lib\\site-packages\\tensorboard\\compat\\tensorflow_stub\\dtypes.py:543: FutureWarning: Passing (type, 1) or '1type' as a synonym of type is deprecated; in a future version of numpy, it will be understood as (type, (1,)) / '(1,)type'.\n",
      "  _np_qint16 = np.dtype([(\"qint16\", np.int16, 1)])\n",
      "C:\\Users\\percy\\anaconda3\\envs\\tensorflow\\lib\\site-packages\\tensorboard\\compat\\tensorflow_stub\\dtypes.py:544: FutureWarning: Passing (type, 1) or '1type' as a synonym of type is deprecated; in a future version of numpy, it will be understood as (type, (1,)) / '(1,)type'.\n",
      "  _np_quint16 = np.dtype([(\"quint16\", np.uint16, 1)])\n",
      "C:\\Users\\percy\\anaconda3\\envs\\tensorflow\\lib\\site-packages\\tensorboard\\compat\\tensorflow_stub\\dtypes.py:545: FutureWarning: Passing (type, 1) or '1type' as a synonym of type is deprecated; in a future version of numpy, it will be understood as (type, (1,)) / '(1,)type'.\n",
      "  _np_qint32 = np.dtype([(\"qint32\", np.int32, 1)])\n",
      "C:\\Users\\percy\\anaconda3\\envs\\tensorflow\\lib\\site-packages\\tensorboard\\compat\\tensorflow_stub\\dtypes.py:550: FutureWarning: Passing (type, 1) or '1type' as a synonym of type is deprecated; in a future version of numpy, it will be understood as (type, (1,)) / '(1,)type'.\n",
      "  np_resource = np.dtype([(\"resource\", np.ubyte, 1)])\n"
     ]
    }
   ],
   "source": [
    "import os\n",
    "import keras\n",
    "import itertools\n",
    "# Disable GPU\n",
    "os.environ[\"CUDA_VISIBLE_DEVICES\"] = \"0\""
   ]
  },
  {
   "cell_type": "code",
   "execution_count": 2,
   "metadata": {},
   "outputs": [],
   "source": [
    "train, test = keras.datasets.cifar10.load_data()"
   ]
  },
  {
   "cell_type": "code",
   "execution_count": 3,
   "metadata": {},
   "outputs": [],
   "source": [
    "## 資料前處理\n",
    "def preproc_x(x, flatten=True):\n",
    "    x = x / 255.\n",
    "    if flatten:\n",
    "        x = x.reshape((len(x), -1))\n",
    "    return x\n",
    "\n",
    "def preproc_y(y, num_classes=10):\n",
    "    if y.shape[-1] == 1:\n",
    "        y = keras.utils.to_categorical(y, num_classes)\n",
    "    return y    "
   ]
  },
  {
   "cell_type": "code",
   "execution_count": 4,
   "metadata": {},
   "outputs": [],
   "source": [
    "x_train, y_train = train\n",
    "x_test, y_test = test\n",
    "\n",
    "# Preproc the inputs\n",
    "x_train = preproc_x(x_train)\n",
    "x_test = preproc_x(x_test)\n",
    "\n",
    "# Preprc the outputs\n",
    "y_train = preproc_y(y_train)\n",
    "y_test = preproc_y(y_test)"
   ]
  },
  {
   "cell_type": "code",
   "execution_count": 5,
   "metadata": {},
   "outputs": [],
   "source": [
    "from keras.layers import BatchNormalization\n",
    "\n",
    "\"\"\"\n",
    "建立神經網路，並加入 BN layer\n",
    "\"\"\"\n",
    "def build_mlp(input_shape, output_units=10, num_neurons=[512, 256, 128]):\n",
    "    input_layer = keras.layers.Input(input_shape)\n",
    "    \n",
    "    for i, n_units in enumerate(num_neurons):\n",
    "        if i == 0:\n",
    "            x = keras.layers.Dense(units=n_units, \n",
    "                                   activation=\"relu\", \n",
    "                                   name=\"hidden_layer\"+str(i+1))(input_layer)\n",
    "            x = BatchNormalization()(x)\n",
    "        else:\n",
    "            x = keras.layers.Dense(units=n_units, \n",
    "                                   activation=\"relu\", \n",
    "                                   name=\"hidden_layer\"+str(i+1))(x)\n",
    "            x = BatchNormalization()(x)\n",
    "    \n",
    "    out = keras.layers.Dense(units=output_units, activation=\"softmax\", name=\"output\")(x)\n",
    "    \n",
    "    model = keras.models.Model(inputs=[input_layer], outputs=[out])\n",
    "    return model"
   ]
  },
  {
   "cell_type": "code",
   "execution_count": 6,
   "metadata": {},
   "outputs": [],
   "source": [
    "\"\"\"Code Here\n",
    "設定超參數\n",
    "\"\"\"\n",
    "LEARNING_RATE = 1e-3\n",
    "EPOCHS = 50\n",
    "BATCH_SIZE = 32\n",
    "MOMENTUM = 0.95"
   ]
  },
  {
   "cell_type": "code",
   "execution_count": 7,
   "metadata": {
    "scrolled": true
   },
   "outputs": [
    {
     "name": "stdout",
     "output_type": "stream",
     "text": [
      "Model: \"model_1\"\n",
      "_________________________________________________________________\n",
      "Layer (type)                 Output Shape              Param #   \n",
      "=================================================================\n",
      "input_1 (InputLayer)         (None, 3072)              0         \n",
      "_________________________________________________________________\n",
      "hidden_layer1 (Dense)        (None, 512)               1573376   \n",
      "_________________________________________________________________\n",
      "batch_normalization_1 (Batch (None, 512)               2048      \n",
      "_________________________________________________________________\n",
      "hidden_layer2 (Dense)        (None, 256)               131328    \n",
      "_________________________________________________________________\n",
      "batch_normalization_2 (Batch (None, 256)               1024      \n",
      "_________________________________________________________________\n",
      "hidden_layer3 (Dense)        (None, 128)               32896     \n",
      "_________________________________________________________________\n",
      "batch_normalization_3 (Batch (None, 128)               512       \n",
      "_________________________________________________________________\n",
      "output (Dense)               (None, 10)                1290      \n",
      "=================================================================\n",
      "Total params: 1,742,474\n",
      "Trainable params: 1,740,682\n",
      "Non-trainable params: 1,792\n",
      "_________________________________________________________________\n",
      "WARNING:tensorflow:From C:\\Users\\percy\\anaconda3\\envs\\tensorflow\\lib\\site-packages\\keras\\backend\\tensorflow_backend.py:422: The name tf.global_variables is deprecated. Please use tf.compat.v1.global_variables instead.\n",
      "\n",
      "Train on 50000 samples, validate on 10000 samples\n",
      "Epoch 1/50\n",
      "50000/50000 [==============================] - 8s 166us/step - loss: 1.7571 - accuracy: 0.3756 - val_loss: 1.8008 - val_accuracy: 0.3642\n",
      "Epoch 2/50\n",
      "50000/50000 [==============================] - 8s 155us/step - loss: 1.5876 - accuracy: 0.4331 - val_loss: 1.6358 - val_accuracy: 0.4035\n",
      "Epoch 3/50\n",
      "50000/50000 [==============================] - 8s 157us/step - loss: 1.5034 - accuracy: 0.4621 - val_loss: 1.5615 - val_accuracy: 0.4440\n",
      "Epoch 4/50\n",
      "50000/50000 [==============================] - 8s 156us/step - loss: 1.4442 - accuracy: 0.4881 - val_loss: 1.5805 - val_accuracy: 0.4401\n",
      "Epoch 5/50\n",
      "50000/50000 [==============================] - 8s 156us/step - loss: 1.4010 - accuracy: 0.5016 - val_loss: 1.5228 - val_accuracy: 0.4603\n",
      "Epoch 6/50\n",
      "50000/50000 [==============================] - 8s 158us/step - loss: 1.3665 - accuracy: 0.5134 - val_loss: 1.4571 - val_accuracy: 0.4813\n",
      "Epoch 7/50\n",
      "50000/50000 [==============================] - 8s 156us/step - loss: 1.3288 - accuracy: 0.5270 - val_loss: 1.4278 - val_accuracy: 0.4989\n",
      "Epoch 8/50\n",
      "50000/50000 [==============================] - 8s 156us/step - loss: 1.2975 - accuracy: 0.5377 - val_loss: 1.4222 - val_accuracy: 0.4957\n",
      "Epoch 9/50\n",
      "50000/50000 [==============================] - 8s 155us/step - loss: 1.2736 - accuracy: 0.5479 - val_loss: 1.4188 - val_accuracy: 0.4969\n",
      "Epoch 10/50\n",
      "50000/50000 [==============================] - 8s 156us/step - loss: 1.2551 - accuracy: 0.5525 - val_loss: 1.3854 - val_accuracy: 0.5073\n",
      "Epoch 11/50\n",
      "50000/50000 [==============================] - 8s 155us/step - loss: 1.2332 - accuracy: 0.5621 - val_loss: 1.4436 - val_accuracy: 0.4869\n",
      "Epoch 12/50\n",
      "50000/50000 [==============================] - 8s 154us/step - loss: 1.2146 - accuracy: 0.5671 - val_loss: 1.3966 - val_accuracy: 0.5038\n",
      "Epoch 13/50\n",
      "50000/50000 [==============================] - 8s 153us/step - loss: 1.1938 - accuracy: 0.5761 - val_loss: 1.3821 - val_accuracy: 0.5124\n",
      "Epoch 14/50\n",
      "50000/50000 [==============================] - 8s 155us/step - loss: 1.1804 - accuracy: 0.5806 - val_loss: 1.4447 - val_accuracy: 0.4919\n",
      "Epoch 15/50\n",
      "50000/50000 [==============================] - 8s 156us/step - loss: 1.1654 - accuracy: 0.5851 - val_loss: 1.5738 - val_accuracy: 0.4509\n",
      "Epoch 16/50\n",
      "50000/50000 [==============================] - 8s 158us/step - loss: 1.1488 - accuracy: 0.5900 - val_loss: 1.3686 - val_accuracy: 0.5194\n",
      "Epoch 17/50\n",
      "50000/50000 [==============================] - 8s 152us/step - loss: 1.1374 - accuracy: 0.5945 - val_loss: 1.3853 - val_accuracy: 0.5149\n",
      "Epoch 18/50\n",
      "50000/50000 [==============================] - 8s 152us/step - loss: 1.1232 - accuracy: 0.5995 - val_loss: 1.4176 - val_accuracy: 0.5115\n",
      "Epoch 19/50\n",
      "50000/50000 [==============================] - 8s 152us/step - loss: 1.1054 - accuracy: 0.6065 - val_loss: 1.3663 - val_accuracy: 0.5287\n",
      "Epoch 20/50\n",
      "50000/50000 [==============================] - 8s 154us/step - loss: 1.0959 - accuracy: 0.6111 - val_loss: 1.3835 - val_accuracy: 0.5197\n",
      "Epoch 21/50\n",
      "50000/50000 [==============================] - 8s 155us/step - loss: 1.0819 - accuracy: 0.6147 - val_loss: 1.4070 - val_accuracy: 0.5105\n",
      "Epoch 22/50\n",
      "50000/50000 [==============================] - 8s 152us/step - loss: 1.0672 - accuracy: 0.6194 - val_loss: 1.3849 - val_accuracy: 0.5171\n",
      "Epoch 23/50\n",
      "50000/50000 [==============================] - 8s 154us/step - loss: 1.0644 - accuracy: 0.6221 - val_loss: 1.4190 - val_accuracy: 0.5119\n",
      "Epoch 24/50\n",
      "50000/50000 [==============================] - 8s 155us/step - loss: 1.0549 - accuracy: 0.6238 - val_loss: 1.4831 - val_accuracy: 0.5018\n",
      "Epoch 25/50\n",
      "50000/50000 [==============================] - 8s 154us/step - loss: 1.0385 - accuracy: 0.6304 - val_loss: 1.4212 - val_accuracy: 0.5189\n",
      "Epoch 26/50\n",
      "50000/50000 [==============================] - 8s 155us/step - loss: 1.0253 - accuracy: 0.6329 - val_loss: 1.4427 - val_accuracy: 0.5105\n",
      "Epoch 27/50\n",
      "50000/50000 [==============================] - 8s 157us/step - loss: 1.0195 - accuracy: 0.6373 - val_loss: 1.4350 - val_accuracy: 0.5185\n",
      "Epoch 28/50\n",
      "50000/50000 [==============================] - 8s 155us/step - loss: 1.0145 - accuracy: 0.6396 - val_loss: 1.5148 - val_accuracy: 0.4867\n",
      "Epoch 29/50\n",
      "50000/50000 [==============================] - 8s 155us/step - loss: 1.0048 - accuracy: 0.6417 - val_loss: 1.5356 - val_accuracy: 0.4807\n",
      "Epoch 30/50\n",
      "50000/50000 [==============================] - 8s 164us/step - loss: 0.9874 - accuracy: 0.6478 - val_loss: 1.3726 - val_accuracy: 0.5401\n",
      "Epoch 31/50\n",
      "50000/50000 [==============================] - 8s 158us/step - loss: 0.9916 - accuracy: 0.6468 - val_loss: 1.4487 - val_accuracy: 0.5130\n",
      "Epoch 32/50\n",
      "50000/50000 [==============================] - 8s 159us/step - loss: 0.9837 - accuracy: 0.6479 - val_loss: 1.4785 - val_accuracy: 0.5050\n",
      "Epoch 33/50\n",
      "50000/50000 [==============================] - 8s 159us/step - loss: 0.9726 - accuracy: 0.6526 - val_loss: 1.3670 - val_accuracy: 0.5339\n",
      "Epoch 34/50\n",
      "50000/50000 [==============================] - 8s 158us/step - loss: 0.9633 - accuracy: 0.6552 - val_loss: 1.4409 - val_accuracy: 0.5165\n",
      "Epoch 35/50\n",
      "50000/50000 [==============================] - 8s 158us/step - loss: 0.9561 - accuracy: 0.6582 - val_loss: 1.4762 - val_accuracy: 0.5072\n",
      "Epoch 36/50\n",
      "50000/50000 [==============================] - 8s 159us/step - loss: 0.9475 - accuracy: 0.6608 - val_loss: 1.4471 - val_accuracy: 0.5101\n",
      "Epoch 37/50\n",
      "50000/50000 [==============================] - 8s 159us/step - loss: 0.9402 - accuracy: 0.6643 - val_loss: 1.4243 - val_accuracy: 0.5212\n",
      "Epoch 38/50\n",
      "50000/50000 [==============================] - 8s 158us/step - loss: 0.9370 - accuracy: 0.6655 - val_loss: 1.4097 - val_accuracy: 0.5279\n",
      "Epoch 39/50\n",
      "50000/50000 [==============================] - 8s 157us/step - loss: 0.9252 - accuracy: 0.6695 - val_loss: 1.4826 - val_accuracy: 0.5092\n",
      "Epoch 40/50\n",
      "50000/50000 [==============================] - 8s 160us/step - loss: 0.9271 - accuracy: 0.6696 - val_loss: 1.5210 - val_accuracy: 0.5067\n",
      "Epoch 41/50\n",
      "50000/50000 [==============================] - 8s 158us/step - loss: 0.9179 - accuracy: 0.6714 - val_loss: 1.4919 - val_accuracy: 0.5123\n",
      "Epoch 42/50\n",
      "50000/50000 [==============================] - 8s 160us/step - loss: 0.9143 - accuracy: 0.6744 - val_loss: 1.4367 - val_accuracy: 0.5247\n",
      "Epoch 43/50\n",
      "50000/50000 [==============================] - 8s 163us/step - loss: 0.9066 - accuracy: 0.6737 - val_loss: 1.4880 - val_accuracy: 0.5110\n",
      "Epoch 44/50\n"
     ]
    },
    {
     "name": "stdout",
     "output_type": "stream",
     "text": [
      "50000/50000 [==============================] - 8s 160us/step - loss: 0.8969 - accuracy: 0.6792 - val_loss: 1.5046 - val_accuracy: 0.5040\n",
      "Epoch 45/50\n",
      "50000/50000 [==============================] - 8s 157us/step - loss: 0.8973 - accuracy: 0.6802 - val_loss: 1.5868 - val_accuracy: 0.4856\n",
      "Epoch 46/50\n",
      "50000/50000 [==============================] - 8s 156us/step - loss: 0.8881 - accuracy: 0.6835 - val_loss: 1.5130 - val_accuracy: 0.5127\n",
      "Epoch 47/50\n",
      "50000/50000 [==============================] - 8s 157us/step - loss: 0.8839 - accuracy: 0.6827 - val_loss: 1.5278 - val_accuracy: 0.5007\n",
      "Epoch 48/50\n",
      "50000/50000 [==============================] - 8s 159us/step - loss: 0.8775 - accuracy: 0.6839 - val_loss: 1.5911 - val_accuracy: 0.4922\n",
      "Epoch 49/50\n",
      "50000/50000 [==============================] - 8s 158us/step - loss: 0.8749 - accuracy: 0.6883 - val_loss: 1.5290 - val_accuracy: 0.5073\n",
      "Epoch 50/50\n",
      "50000/50000 [==============================] - 8s 157us/step - loss: 0.8654 - accuracy: 0.6906 - val_loss: 1.5014 - val_accuracy: 0.5174\n"
     ]
    }
   ],
   "source": [
    "results = {}\n",
    "\"\"\"Code Here\n",
    "撰寫你的訓練流程並將結果用 dictionary 紀錄\n",
    "\"\"\"\n",
    "model = build_mlp(input_shape=x_train.shape[1:])\n",
    "model.summary()\n",
    "optimizer = keras.optimizers.Adam(lr=LEARNING_RATE)\n",
    "model.compile(loss=\"categorical_crossentropy\", metrics=[\"accuracy\"], optimizer=optimizer)\n",
    "\n",
    "model.fit(x_train, y_train, \n",
    "          epochs=EPOCHS, \n",
    "          batch_size=BATCH_SIZE, \n",
    "          validation_data=(x_test, y_test), \n",
    "          shuffle=True)\n",
    "\n",
    "# Collect results\n",
    "train_loss = model.history.history[\"loss\"]\n",
    "valid_loss = model.history.history[\"val_loss\"]\n",
    "train_acc = model.history.history[\"accuracy\"]\n",
    "valid_acc = model.history.history[\"val_accuracy\"]"
   ]
  },
  {
   "cell_type": "code",
   "execution_count": 8,
   "metadata": {},
   "outputs": [
    {
     "data": {
      "image/png": "[encoded data removed]",
      "text/plain": [
       "<Figure size 432x288 with 1 Axes>"
      ]
     },
     "metadata": {
      "needs_background": "light"
     },
     "output_type": "display_data"
    },
    {
     "data": {
      "image/png": "[encoded data removed]",
      "text/plain": [
       "<Figure size 432x288 with 1 Axes>"
      ]
     },
     "metadata": {
      "needs_background": "light"
     },
     "output_type": "display_data"
    }
   ],
   "source": [
    "import matplotlib.pyplot as plt\n",
    "%matplotlib inline\n",
    "\"\"\"Code Here\n",
    "將結果繪出\n",
    "\"\"\"\n",
    "import matplotlib.pyplot as plt\n",
    "%matplotlib inline\n",
    "\n",
    "plt.plot(range(len(train_loss)), train_loss, label=\"train loss\")\n",
    "plt.plot(range(len(valid_loss)), valid_loss, label=\"valid loss\")\n",
    "plt.legend()\n",
    "plt.title(\"Loss\")\n",
    "plt.show()\n",
    "\n",
    "plt.plot(range(len(train_acc)), train_acc, label=\"train accuracy\")\n",
    "plt.plot(range(len(valid_acc)), valid_acc, label=\"valid accuracy\")\n",
    "plt.legend()\n",
    "plt.title(\"Accuracy\")\n",
    "plt.show()"
   ]
  }
 ],
 "metadata": {
  "kernelspec": {
   "display_name": "Python 3.7.7 64-bit ('tensorflow': conda)",
   "language": "python",
   "name": "python37764bittensorflowcondabe2e4336b96f48d4b87e149945cb22b6"
  },
  "language_info": {
   "codemirror_mode": {
    "name": "ipython",
    "version": 3
   },
   "file_extension": ".py",
   "mimetype": "text/x-python",
   "name": "python",
   "nbconvert_exporter": "python",
   "pygments_lexer": "ipython3",
   "version": "3.7.7"
  }
 },
 "nbformat": 4,
 "nbformat_minor": 2
}
